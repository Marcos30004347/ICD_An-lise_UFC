{
 "cells": [
  {
   "cell_type": "code",
   "execution_count": 1,
   "metadata": {},
   "outputs": [],
   "source": [
    "import matplotlib.pyplot as plt\n",
    "import pandas as pd \n",
    "import numpy as np\n",
    "import scipy as spy"
   ]
  },
  {
   "cell_type": "code",
   "execution_count": 47,
   "metadata": {},
   "outputs": [
    {
     "data": {
      "text/html": [
       "<div>\n",
       "<style scoped>\n",
       "    .dataframe tbody tr th:only-of-type {\n",
       "        vertical-align: middle;\n",
       "    }\n",
       "\n",
       "    .dataframe tbody tr th {\n",
       "        vertical-align: top;\n",
       "    }\n",
       "\n",
       "    .dataframe thead th {\n",
       "        text-align: right;\n",
       "    }\n",
       "</style>\n",
       "<table border=\"1\" class=\"dataframe\">\n",
       "  <thead>\n",
       "    <tr style=\"text-align: right;\">\n",
       "      <th></th>\n",
       "      <th>R_fighter</th>\n",
       "      <th>B_fighter</th>\n",
       "      <th>Winner</th>\n",
       "      <th>weight_class</th>\n",
       "      <th>no_of_rounds</th>\n",
       "      <th>B_losses</th>\n",
       "      <th>B_wins</th>\n",
       "      <th>B_Height_cms</th>\n",
       "      <th>B_Reach_cms</th>\n",
       "      <th>B_Weight_lbs</th>\n",
       "      <th>R_losses</th>\n",
       "      <th>R_wins</th>\n",
       "      <th>R_Height_cms</th>\n",
       "      <th>R_Reach_cms</th>\n",
       "      <th>R_Weight_lbs</th>\n",
       "      <th>B_age</th>\n",
       "      <th>R_age</th>\n",
       "    </tr>\n",
       "  </thead>\n",
       "  <tbody>\n",
       "    <tr>\n",
       "      <td>4</td>\n",
       "      <td>Tai Tuivasa</td>\n",
       "      <td>Blagoy Ivanov</td>\n",
       "      <td>Blue</td>\n",
       "      <td>Heavyweight</td>\n",
       "      <td>3</td>\n",
       "      <td>1.0</td>\n",
       "      <td>1.0</td>\n",
       "      <td>180.34</td>\n",
       "      <td>185.42</td>\n",
       "      <td>250.0</td>\n",
       "      <td>1.0</td>\n",
       "      <td>3.0</td>\n",
       "      <td>187.96</td>\n",
       "      <td>190.50</td>\n",
       "      <td>264.0</td>\n",
       "      <td>32.0</td>\n",
       "      <td>26.0</td>\n",
       "    </tr>\n",
       "    <tr>\n",
       "      <td>54</td>\n",
       "      <td>Walt Harris</td>\n",
       "      <td>Serghei Spivac</td>\n",
       "      <td>Red</td>\n",
       "      <td>Heavyweight</td>\n",
       "      <td>3</td>\n",
       "      <td>0.0</td>\n",
       "      <td>0.0</td>\n",
       "      <td>190.50</td>\n",
       "      <td>198.12</td>\n",
       "      <td>260.0</td>\n",
       "      <td>7.0</td>\n",
       "      <td>4.0</td>\n",
       "      <td>195.58</td>\n",
       "      <td>195.58</td>\n",
       "      <td>250.0</td>\n",
       "      <td>24.0</td>\n",
       "      <td>35.0</td>\n",
       "    </tr>\n",
       "    <tr>\n",
       "      <td>60</td>\n",
       "      <td>Arjan Bhullar</td>\n",
       "      <td>Juan Adams</td>\n",
       "      <td>Red</td>\n",
       "      <td>Heavyweight</td>\n",
       "      <td>3</td>\n",
       "      <td>0.0</td>\n",
       "      <td>1.0</td>\n",
       "      <td>195.58</td>\n",
       "      <td>203.20</td>\n",
       "      <td>265.0</td>\n",
       "      <td>1.0</td>\n",
       "      <td>2.0</td>\n",
       "      <td>185.42</td>\n",
       "      <td>190.50</td>\n",
       "      <td>245.0</td>\n",
       "      <td>27.0</td>\n",
       "      <td>32.0</td>\n",
       "    </tr>\n",
       "    <tr>\n",
       "      <td>63</td>\n",
       "      <td>Greg Hardy</td>\n",
       "      <td>Dmitrii Smoliakov</td>\n",
       "      <td>Red</td>\n",
       "      <td>Heavyweight</td>\n",
       "      <td>3</td>\n",
       "      <td>2.0</td>\n",
       "      <td>0.0</td>\n",
       "      <td>187.96</td>\n",
       "      <td>187.96</td>\n",
       "      <td>253.0</td>\n",
       "      <td>1.0</td>\n",
       "      <td>0.0</td>\n",
       "      <td>195.58</td>\n",
       "      <td>203.20</td>\n",
       "      <td>265.0</td>\n",
       "      <td>36.0</td>\n",
       "      <td>30.0</td>\n",
       "    </tr>\n",
       "    <tr>\n",
       "      <td>69</td>\n",
       "      <td>Andrei Arlovski</td>\n",
       "      <td>Augusto Sakai</td>\n",
       "      <td>Blue</td>\n",
       "      <td>Heavyweight</td>\n",
       "      <td>3</td>\n",
       "      <td>0.0</td>\n",
       "      <td>1.0</td>\n",
       "      <td>190.50</td>\n",
       "      <td>195.58</td>\n",
       "      <td>265.0</td>\n",
       "      <td>12.0</td>\n",
       "      <td>16.0</td>\n",
       "      <td>190.50</td>\n",
       "      <td>195.58</td>\n",
       "      <td>240.0</td>\n",
       "      <td>27.0</td>\n",
       "      <td>40.0</td>\n",
       "    </tr>\n",
       "  </tbody>\n",
       "</table>\n",
       "</div>"
      ],
      "text/plain": [
       "          R_fighter          B_fighter Winner weight_class  no_of_rounds  \\\n",
       "4       Tai Tuivasa      Blagoy Ivanov   Blue  Heavyweight             3   \n",
       "54      Walt Harris     Serghei Spivac    Red  Heavyweight             3   \n",
       "60    Arjan Bhullar         Juan Adams    Red  Heavyweight             3   \n",
       "63       Greg Hardy  Dmitrii Smoliakov    Red  Heavyweight             3   \n",
       "69  Andrei Arlovski      Augusto Sakai   Blue  Heavyweight             3   \n",
       "\n",
       "    B_losses  B_wins  B_Height_cms  B_Reach_cms  B_Weight_lbs  R_losses  \\\n",
       "4        1.0     1.0        180.34       185.42         250.0       1.0   \n",
       "54       0.0     0.0        190.50       198.12         260.0       7.0   \n",
       "60       0.0     1.0        195.58       203.20         265.0       1.0   \n",
       "63       2.0     0.0        187.96       187.96         253.0       1.0   \n",
       "69       0.0     1.0        190.50       195.58         265.0      12.0   \n",
       "\n",
       "    R_wins  R_Height_cms  R_Reach_cms  R_Weight_lbs  B_age  R_age  \n",
       "4      3.0        187.96       190.50         264.0   32.0   26.0  \n",
       "54     4.0        195.58       195.58         250.0   24.0   35.0  \n",
       "60     2.0        185.42       190.50         245.0   27.0   32.0  \n",
       "63     0.0        195.58       203.20         265.0   36.0   30.0  \n",
       "69    16.0        190.50       195.58         240.0   27.0   40.0  "
      ]
     },
     "execution_count": 47,
     "metadata": {},
     "output_type": "execute_result"
    }
   ],
   "source": [
    "columns = [\n",
    "    \"R_fighter\",\n",
    "    \"B_fighter\",\n",
    "    \"Winner\",\"weight_class\",\n",
    "    \"no_of_rounds\",\n",
    "    \"B_wins\", \n",
    "    \"R_wins\", \n",
    "    \"B_losses\", \n",
    "    \"R_losses\", \n",
    "    \"B_age\", \n",
    "    \"R_age\", \n",
    "    \"R_Height_cms\",\n",
    "    \"R_Reach_cms\",\n",
    "    \"R_Weight_lbs\",\n",
    "    \"B_Height_cms\",\n",
    "    \"B_Reach_cms\",\n",
    "    \"B_Weight_lbs\"]\n",
    "data = pd.read_csv(\"ufcdata/data.csv\",encoding='latin-1', usecols=columns)\n",
    "heavyWeigthData = data[data[\"weight_class\"] == \"Heavyweight\"]\n",
    "heavyWeigthData.head()"
   ]
  },
  {
   "cell_type": "markdown",
   "metadata": {},
   "source": [
    "### 1. O número de vitorias tem uma distribuição aleatória para o lado (Azul, Vermelho)?"
   ]
  },
  {
   "cell_type": "code",
   "execution_count": 61,
   "metadata": {},
   "outputs": [
    {
     "data": {
      "text/plain": [
       "-1.4047190047190057"
      ]
     },
     "execution_count": 61,
     "metadata": {},
     "output_type": "execute_result"
    }
   ],
   "source": [
    "filtro = heavyWeigthData[\"Winner\"] == \"Red\"\n",
    "heavyWeigthData[filtro][\"R_age\"].mean() - heavyWeigthData[~filtro][\"B_age\"].mean()"
   ]
  },
  {
   "cell_type": "code",
   "execution_count": 75,
   "metadata": {},
   "outputs": [
    {
     "data": {
      "text/plain": [
       "-0.82516998029275"
      ]
     },
     "execution_count": 75,
     "metadata": {},
     "output_type": "execute_result"
    }
   ],
   "source": [
    "N = 10000\n",
    "diferencas = np.zeros(N)\n",
    "for i in range(N):\n",
    "    np.random.shuffle(filtro.values)\n",
    "    diff = heavyWeigthData[filtro][\"R_age\"].mean() - heavyWeigthData[~filtro][\"B_age\"].mean()\n",
    "    diferencas[i] = diff\n",
    "np.percentile(diferencas, 5)"
   ]
  },
  {
   "cell_type": "code",
   "execution_count": 74,
   "metadata": {},
   "outputs": [
    {
     "data": {
      "image/png": "[encoded data removed]",
      "text/plain": [
       "<Figure size 432x288 with 1 Axes>"
      ]
     },
     "metadata": {
      "needs_background": "light"
     },
     "output_type": "display_data"
    }
   ],
   "source": [
    "plt.xlabel('Diferença na Permutação')\n",
    "plt.ylabel('Pr(diff)')\n",
    "plt.vlines(-1.4047190047190057, 1000, 1, color='red')\n",
    "plt.text(-1.4047190047190057, 500, 'valor observado')\n",
    "plt.hist(diferencas, bins=30, edgecolor='k')\n",
    "plt.show()"
   ]
  },
  {
   "cell_type": "markdown",
   "metadata": {},
   "source": [
    "### 2. Quais atributos e configurações de luta aumentam a possibilidade de vitória?"
   ]
  },
  {
   "cell_type": "markdown",
   "metadata": {},
   "source": [
    "### 3. É possivel prever o resultado de uma luta baseado nos atributos dos lutadores?"
   ]
  },
  {
   "cell_type": "code",
   "execution_count": null,
   "metadata": {},
   "outputs": [],
   "source": []
  },
  {
   "cell_type": "code",
   "execution_count": null,
   "metadata": {},
   "outputs": [],
   "source": []
  }
 ],
 "metadata": {
  "kernelspec": {
   "display_name": "Python 3",
   "language": "python",
   "name": "python3"
  },
  "language_info": {
   "codemirror_mode": {
    "name": "ipython",
    "version": 3
   },
   "file_extension": ".py",
   "mimetype": "text/x-python",
   "name": "python",
   "nbconvert_exporter": "python",
   "pygments_lexer": "ipython3",
   "version": "3.7.4"
  }
 },
 "nbformat": 4,
 "nbformat_minor": 2
}
