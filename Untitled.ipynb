{
 "cells": [
  {
   "cell_type": "code",
   "execution_count": null,
   "metadata": {},
   "outputs": [],
   "source": [
    "import matplotlib.pyplot as plt\n",
    "import pandas as pd \n",
    "import numpy as np\n",
    "import scipy as spy\n",
    "import seaborn as sns\n",
    "import matplotlib.pyplot as plt\n",
    "from sklearn.linear_model import LogisticRegression\n",
    "from sklearn.metrics import accuracy_score\n",
    "from sklearn.model_selection import train_test_split\n",
    "from sklearn.neighbors import KNeighborsClassifier"
   ]
  },
  {
   "cell_type": "code",
   "execution_count": null,
   "metadata": {},
   "outputs": [],
   "source": [
    "columns = [\n",
    "    \"R_fighter\",\n",
    "    \"B_fighter\",\n",
    "    \"Winner\",\"weight_class\",\n",
    "    \"no_of_rounds\",\n",
    "    \"B_wins\", \n",
    "    \"R_wins\", \n",
    "    \"B_losses\", \n",
    "    \"R_losses\", \n",
    "    \"B_age\", \n",
    "    \"R_age\", \n",
    "    \"R_Height_cms\",\n",
    "    \"R_Reach_cms\",\n",
    "    \"R_Weight_lbs\",\n",
    "    \"B_Height_cms\",\n",
    "    \"B_Reach_cms\",\n",
    "    \"B_Weight_lbs\"]\n",
    "data = pd.read_csv(\"ufcdata/data.csv\",encoding='latin-1', usecols=columns)\n",
    "data = data[np.isfinite(data['R_Reach_cms'])]\n",
    "data = data[np.isfinite(data['B_Reach_cms'])]\n",
    "data = data[np.isfinite(data['no_of_rounds'])]\n",
    "data = data[np.isfinite(data['B_wins'])]\n",
    "data = data[np.isfinite(data['R_wins'])]\n",
    "data = data[np.isfinite(data['B_losses'])]\n",
    "data = data[np.isfinite(data['R_losses'])]\n",
    "data = data[np.isfinite(data['R_age'])]\n",
    "data = data[np.isfinite(data['B_age'])]\n",
    "data = data[np.isfinite(data['R_Weight_lbs'])]\n",
    "data = data[np.isfinite(data['B_Weight_lbs'])]\n",
    "data = data[np.isfinite(data['B_Height_cms'])]\n",
    "data = data[np.isfinite(data['R_Height_cms'])]\n",
    "data"
   ]
  },
  {
   "cell_type": "markdown",
   "metadata": {},
   "source": [
    "### 1. A idade tem uma distribuição uniformemente aleatória para o vencedor?"
   ]
  },
  {
   "cell_type": "markdown",
   "metadata": {},
   "source": [
    "##### Análise:"
   ]
  },
  {
   "cell_type": "markdown",
   "metadata": {},
   "source": [
    "Vamos mensurar a diferença de idade entre ganhador e perdedor em um mundo aleatório."
   ]
  },
  {
   "cell_type": "markdown",
   "metadata": {},
   "source": [
    "Para ganhadores no lado Vermelho:"
   ]
  },
  {
   "cell_type": "markdown",
   "metadata": {},
   "source": [
    " * Hipotese Nula:\n",
    " Seleção aleatória."
   ]
  },
  {
   "cell_type": "markdown",
   "metadata": {},
   "source": [
    "Para que não saframos do paradoxo Simpson, envolvendo as categorias de Peso Pesado, Peso Leve e Peso Médio."
   ]
  },
  {
   "cell_type": "markdown",
   "metadata": {},
   "source": [
    "Para cada uma dessas clássificações, faremos um Teste de Permutação para verificar se a idade tem grande influência nas lutas. Para isso, iremos fazer permutações repetidas vezes entre os ganhadores e perdedores e mensurar a diferença de suas idades para que a \"Lei dos Grandes Números\" nos mostre qual é a média da diferença das idades em um cenário onde o vencedor é selecionado uniformemente de forma aleatoria, e então comparar o valor observado nos dados com o resultado obtido pelo Teste de Permutação."
   ]
  },
  {
   "cell_type": "markdown",
   "metadata": {},
   "source": [
    "### Peso Pesado"
   ]
  },
  {
   "cell_type": "code",
   "execution_count": 251,
   "metadata": {},
   "outputs": [
    {
     "data": {
      "text/html": [
       "<div>\n",
       "<style scoped>\n",
       "    .dataframe tbody tr th:only-of-type {\n",
       "        vertical-align: middle;\n",
       "    }\n",
       "\n",
       "    .dataframe tbody tr th {\n",
       "        vertical-align: top;\n",
       "    }\n",
       "\n",
       "    .dataframe thead th {\n",
       "        text-align: right;\n",
       "    }\n",
       "</style>\n",
       "<table border=\"1\" class=\"dataframe\">\n",
       "  <thead>\n",
       "    <tr style=\"text-align: right;\">\n",
       "      <th></th>\n",
       "      <th>R_fighter</th>\n",
       "      <th>B_fighter</th>\n",
       "      <th>Winner</th>\n",
       "      <th>weight_class</th>\n",
       "      <th>no_of_rounds</th>\n",
       "      <th>B_losses</th>\n",
       "      <th>B_wins</th>\n",
       "      <th>B_Height_cms</th>\n",
       "      <th>B_Reach_cms</th>\n",
       "      <th>B_Weight_lbs</th>\n",
       "      <th>R_losses</th>\n",
       "      <th>R_wins</th>\n",
       "      <th>R_Height_cms</th>\n",
       "      <th>R_Reach_cms</th>\n",
       "      <th>R_Weight_lbs</th>\n",
       "      <th>B_age</th>\n",
       "      <th>R_age</th>\n",
       "    </tr>\n",
       "  </thead>\n",
       "  <tbody>\n",
       "    <tr>\n",
       "      <td>4</td>\n",
       "      <td>Tai Tuivasa</td>\n",
       "      <td>Blagoy Ivanov</td>\n",
       "      <td>Blue</td>\n",
       "      <td>Heavyweight</td>\n",
       "      <td>3</td>\n",
       "      <td>1.0</td>\n",
       "      <td>1.0</td>\n",
       "      <td>180.34</td>\n",
       "      <td>185.42</td>\n",
       "      <td>250.0</td>\n",
       "      <td>1.0</td>\n",
       "      <td>3.0</td>\n",
       "      <td>187.96</td>\n",
       "      <td>190.50</td>\n",
       "      <td>264.0</td>\n",
       "      <td>32.0</td>\n",
       "      <td>26.0</td>\n",
       "    </tr>\n",
       "    <tr>\n",
       "      <td>54</td>\n",
       "      <td>Walt Harris</td>\n",
       "      <td>Serghei Spivac</td>\n",
       "      <td>Red</td>\n",
       "      <td>Heavyweight</td>\n",
       "      <td>3</td>\n",
       "      <td>0.0</td>\n",
       "      <td>0.0</td>\n",
       "      <td>190.50</td>\n",
       "      <td>198.12</td>\n",
       "      <td>260.0</td>\n",
       "      <td>7.0</td>\n",
       "      <td>4.0</td>\n",
       "      <td>195.58</td>\n",
       "      <td>195.58</td>\n",
       "      <td>250.0</td>\n",
       "      <td>24.0</td>\n",
       "      <td>35.0</td>\n",
       "    </tr>\n",
       "    <tr>\n",
       "      <td>60</td>\n",
       "      <td>Arjan Bhullar</td>\n",
       "      <td>Juan Adams</td>\n",
       "      <td>Red</td>\n",
       "      <td>Heavyweight</td>\n",
       "      <td>3</td>\n",
       "      <td>0.0</td>\n",
       "      <td>1.0</td>\n",
       "      <td>195.58</td>\n",
       "      <td>203.20</td>\n",
       "      <td>265.0</td>\n",
       "      <td>1.0</td>\n",
       "      <td>2.0</td>\n",
       "      <td>185.42</td>\n",
       "      <td>190.50</td>\n",
       "      <td>245.0</td>\n",
       "      <td>27.0</td>\n",
       "      <td>32.0</td>\n",
       "    </tr>\n",
       "    <tr>\n",
       "      <td>63</td>\n",
       "      <td>Greg Hardy</td>\n",
       "      <td>Dmitrii Smoliakov</td>\n",
       "      <td>Red</td>\n",
       "      <td>Heavyweight</td>\n",
       "      <td>3</td>\n",
       "      <td>2.0</td>\n",
       "      <td>0.0</td>\n",
       "      <td>187.96</td>\n",
       "      <td>187.96</td>\n",
       "      <td>253.0</td>\n",
       "      <td>1.0</td>\n",
       "      <td>0.0</td>\n",
       "      <td>195.58</td>\n",
       "      <td>203.20</td>\n",
       "      <td>265.0</td>\n",
       "      <td>36.0</td>\n",
       "      <td>30.0</td>\n",
       "    </tr>\n",
       "    <tr>\n",
       "      <td>69</td>\n",
       "      <td>Andrei Arlovski</td>\n",
       "      <td>Augusto Sakai</td>\n",
       "      <td>Blue</td>\n",
       "      <td>Heavyweight</td>\n",
       "      <td>3</td>\n",
       "      <td>0.0</td>\n",
       "      <td>1.0</td>\n",
       "      <td>190.50</td>\n",
       "      <td>195.58</td>\n",
       "      <td>265.0</td>\n",
       "      <td>12.0</td>\n",
       "      <td>16.0</td>\n",
       "      <td>190.50</td>\n",
       "      <td>195.58</td>\n",
       "      <td>240.0</td>\n",
       "      <td>27.0</td>\n",
       "      <td>40.0</td>\n",
       "    </tr>\n",
       "  </tbody>\n",
       "</table>\n",
       "</div>"
      ],
      "text/plain": [
       "          R_fighter          B_fighter Winner weight_class  no_of_rounds  \\\n",
       "4       Tai Tuivasa      Blagoy Ivanov   Blue  Heavyweight             3   \n",
       "54      Walt Harris     Serghei Spivac    Red  Heavyweight             3   \n",
       "60    Arjan Bhullar         Juan Adams    Red  Heavyweight             3   \n",
       "63       Greg Hardy  Dmitrii Smoliakov    Red  Heavyweight             3   \n",
       "69  Andrei Arlovski      Augusto Sakai   Blue  Heavyweight             3   \n",
       "\n",
       "    B_losses  B_wins  B_Height_cms  B_Reach_cms  B_Weight_lbs  R_losses  \\\n",
       "4        1.0     1.0        180.34       185.42         250.0       1.0   \n",
       "54       0.0     0.0        190.50       198.12         260.0       7.0   \n",
       "60       0.0     1.0        195.58       203.20         265.0       1.0   \n",
       "63       2.0     0.0        187.96       187.96         253.0       1.0   \n",
       "69       0.0     1.0        190.50       195.58         265.0      12.0   \n",
       "\n",
       "    R_wins  R_Height_cms  R_Reach_cms  R_Weight_lbs  B_age  R_age  \n",
       "4      3.0        187.96       190.50         264.0   32.0   26.0  \n",
       "54     4.0        195.58       195.58         250.0   24.0   35.0  \n",
       "60     2.0        185.42       190.50         245.0   27.0   32.0  \n",
       "63     0.0        195.58       203.20         265.0   36.0   30.0  \n",
       "69    16.0        190.50       195.58         240.0   27.0   40.0  "
      ]
     },
     "execution_count": 251,
     "metadata": {},
     "output_type": "execute_result"
    }
   ],
   "source": [
    "heavyWeigthData = data[data[\"weight_class\"] == \"Heavyweight\"]\n",
    "heavyWeigthData.head()"
   ]
  },
  {
   "cell_type": "code",
   "execution_count": 252,
   "metadata": {},
   "outputs": [
    {
     "data": {
      "text/plain": [
       "-0.30084835630965046"
      ]
     },
     "execution_count": 252,
     "metadata": {},
     "output_type": "execute_result"
    }
   ],
   "source": [
    "filtro = heavyWeigthData[\"Winner\"] == \"Red\"\n",
    "valor_observado = heavyWeigthData[filtro][\"R_age\"].mean() - heavyWeigthData[~filtro][\"B_age\"].mean()\n",
    "valor_observado"
   ]
  },
  {
   "cell_type": "code",
   "execution_count": 273,
   "metadata": {},
   "outputs": [],
   "source": [
    "N = 10000\n",
    "diferencas = np.zeros(N)\n",
    "for i in range(N):\n",
    "    np.random.shuffle(filtro.values)\n",
    "    diff = heavyWeigthData[filtro][\"R_age\"].mean() - heavyWeigthData[~filtro][\"B_age\"].mean()\n",
    "    diferencas[i] = diff"
   ]
  },
  {
   "cell_type": "code",
   "execution_count": 290,
   "metadata": {
    "scrolled": false
   },
   "outputs": [
    {
     "data": {
      "image/png": "[encoded data removed]",
      "text/plain": [
       "<Figure size 432x288 with 1 Axes>"
      ]
     },
     "metadata": {
      "needs_background": "light"
     },
     "output_type": "display_data"
    }
   ],
   "source": [
    "plt.xlabel('Diferença na Permutação')\n",
    "plt.ylabel('Pr(diff)')\n",
    "plt.plot([valor_observado], [0], 'ro', ms=15)\n",
    "plt.hist(diferencas, bins=30, edgecolor='k')\n",
    "plt.vlines(np.percentile(diferencas, 97.5), 0 , 100, color=\"red\")\n",
    "plt.show()"
   ]
  },
  {
   "cell_type": "markdown",
   "metadata": {},
   "source": [
    "Para ganhadores no lado Azul:"
   ]
  },
  {
   "cell_type": "code",
   "execution_count": 275,
   "metadata": {},
   "outputs": [
    {
     "data": {
      "text/plain": [
       "0.10078951180646101"
      ]
     },
     "execution_count": 275,
     "metadata": {},
     "output_type": "execute_result"
    }
   ],
   "source": [
    "filtro = heavyWeigthData[\"Winner\"] == \"Blue\"\n",
    "valor_observado = heavyWeigthData[filtro][\"B_age\"].mean() - heavyWeigthData[~filtro][\"R_age\"].mean()\n",
    "valor_observado"
   ]
  },
  {
   "cell_type": "code",
   "execution_count": 276,
   "metadata": {
    "scrolled": true
   },
   "outputs": [
    {
     "data": {
      "image/png": "[encoded data removed]",
      "text/plain": [
       "<Figure size 432x288 with 1 Axes>"
      ]
     },
     "metadata": {
      "needs_background": "light"
     },
     "output_type": "display_data"
    }
   ],
   "source": [
    "N = 10000\n",
    "diferencas = np.zeros(N)\n",
    "for i in range(N):\n",
    "    np.random.shuffle(filtro.values)\n",
    "    diff = heavyWeigthData[filtro][\"B_age\"].mean() - heavyWeigthData[~filtro][\"R_age\"].mean()\n",
    "    diferencas[i] = diff\n",
    "plt.xlabel('Diferença na Permutação')\n",
    "plt.ylabel('Pr(diff)')\n",
    "plt.plot([valor_observado], [0], 'ro', ms=15)\n",
    "plt.hist(diferencas, bins=30, edgecolor='k')\n",
    "plt.vlines(np.percentile(diferencas, 97.5), 0 , 100, color=\"red\")\n",
    "plt.show()"
   ]
  },
  {
   "cell_type": "markdown",
   "metadata": {},
   "source": [
    "Podemos observar, pelo nosso Teste de Permutação, que os valores observados estão fora do intervalo de confiança para lutadores vitoriosos tanto no lado esquerdo quando no direito, sendo assim, podemos rejeitar a hipotese nula no caso de lutadores na categoria de Peso Pesado."
   ]
  },
  {
   "cell_type": "markdown",
   "metadata": {},
   "source": [
    "### Peso Médio"
   ]
  },
  {
   "cell_type": "code",
   "execution_count": 277,
   "metadata": {},
   "outputs": [
    {
     "data": {
      "text/html": [
       "<div>\n",
       "<style scoped>\n",
       "    .dataframe tbody tr th:only-of-type {\n",
       "        vertical-align: middle;\n",
       "    }\n",
       "\n",
       "    .dataframe tbody tr th {\n",
       "        vertical-align: top;\n",
       "    }\n",
       "\n",
       "    .dataframe thead th {\n",
       "        text-align: right;\n",
       "    }\n",
       "</style>\n",
       "<table border=\"1\" class=\"dataframe\">\n",
       "  <thead>\n",
       "    <tr style=\"text-align: right;\">\n",
       "      <th></th>\n",
       "      <th>R_fighter</th>\n",
       "      <th>B_fighter</th>\n",
       "      <th>Winner</th>\n",
       "      <th>weight_class</th>\n",
       "      <th>no_of_rounds</th>\n",
       "      <th>B_losses</th>\n",
       "      <th>B_wins</th>\n",
       "      <th>B_Height_cms</th>\n",
       "      <th>B_Reach_cms</th>\n",
       "      <th>B_Weight_lbs</th>\n",
       "      <th>R_losses</th>\n",
       "      <th>R_wins</th>\n",
       "      <th>R_Height_cms</th>\n",
       "      <th>R_Reach_cms</th>\n",
       "      <th>R_Weight_lbs</th>\n",
       "      <th>B_age</th>\n",
       "      <th>R_age</th>\n",
       "    </tr>\n",
       "  </thead>\n",
       "  <tbody>\n",
       "    <tr>\n",
       "      <td>10</td>\n",
       "      <td>Bevon Lewis</td>\n",
       "      <td>Darren Stewart</td>\n",
       "      <td>Blue</td>\n",
       "      <td>Middleweight</td>\n",
       "      <td>3</td>\n",
       "      <td>5.0</td>\n",
       "      <td>2.0</td>\n",
       "      <td>182.88</td>\n",
       "      <td>187.96</td>\n",
       "      <td>185.0</td>\n",
       "      <td>1.0</td>\n",
       "      <td>0.0</td>\n",
       "      <td>190.50</td>\n",
       "      <td>200.66</td>\n",
       "      <td>185.0</td>\n",
       "      <td>28.0</td>\n",
       "      <td>28.0</td>\n",
       "    </tr>\n",
       "    <tr>\n",
       "      <td>26</td>\n",
       "      <td>Antonio Carlos Junior</td>\n",
       "      <td>Ian Heinisch</td>\n",
       "      <td>Blue</td>\n",
       "      <td>Middleweight</td>\n",
       "      <td>3</td>\n",
       "      <td>0.0</td>\n",
       "      <td>1.0</td>\n",
       "      <td>180.34</td>\n",
       "      <td>182.88</td>\n",
       "      <td>185.0</td>\n",
       "      <td>3.0</td>\n",
       "      <td>6.0</td>\n",
       "      <td>187.96</td>\n",
       "      <td>200.66</td>\n",
       "      <td>185.0</td>\n",
       "      <td>30.0</td>\n",
       "      <td>29.0</td>\n",
       "    </tr>\n",
       "    <tr>\n",
       "      <td>36</td>\n",
       "      <td>Zak Cummings</td>\n",
       "      <td>Trevin Giles</td>\n",
       "      <td>Red</td>\n",
       "      <td>Middleweight</td>\n",
       "      <td>3</td>\n",
       "      <td>0.0</td>\n",
       "      <td>2.0</td>\n",
       "      <td>182.88</td>\n",
       "      <td>187.96</td>\n",
       "      <td>185.0</td>\n",
       "      <td>3.0</td>\n",
       "      <td>7.0</td>\n",
       "      <td>182.88</td>\n",
       "      <td>190.50</td>\n",
       "      <td>185.0</td>\n",
       "      <td>26.0</td>\n",
       "      <td>34.0</td>\n",
       "    </tr>\n",
       "    <tr>\n",
       "      <td>39</td>\n",
       "      <td>Jared Cannonier</td>\n",
       "      <td>Anderson Silva</td>\n",
       "      <td>Red</td>\n",
       "      <td>Middleweight</td>\n",
       "      <td>3</td>\n",
       "      <td>6.0</td>\n",
       "      <td>17.0</td>\n",
       "      <td>187.96</td>\n",
       "      <td>195.58</td>\n",
       "      <td>185.0</td>\n",
       "      <td>4.0</td>\n",
       "      <td>4.0</td>\n",
       "      <td>180.34</td>\n",
       "      <td>195.58</td>\n",
       "      <td>185.0</td>\n",
       "      <td>44.0</td>\n",
       "      <td>35.0</td>\n",
       "    </tr>\n",
       "    <tr>\n",
       "      <td>51</td>\n",
       "      <td>Derek Brunson</td>\n",
       "      <td>Elias Theodorou</td>\n",
       "      <td>Red</td>\n",
       "      <td>Middleweight</td>\n",
       "      <td>3</td>\n",
       "      <td>2.0</td>\n",
       "      <td>8.0</td>\n",
       "      <td>185.42</td>\n",
       "      <td>190.50</td>\n",
       "      <td>185.0</td>\n",
       "      <td>5.0</td>\n",
       "      <td>9.0</td>\n",
       "      <td>185.42</td>\n",
       "      <td>195.58</td>\n",
       "      <td>185.0</td>\n",
       "      <td>30.0</td>\n",
       "      <td>35.0</td>\n",
       "    </tr>\n",
       "  </tbody>\n",
       "</table>\n",
       "</div>"
      ],
      "text/plain": [
       "                R_fighter        B_fighter Winner  weight_class  no_of_rounds  \\\n",
       "10            Bevon Lewis   Darren Stewart   Blue  Middleweight             3   \n",
       "26  Antonio Carlos Junior     Ian Heinisch   Blue  Middleweight             3   \n",
       "36           Zak Cummings     Trevin Giles    Red  Middleweight             3   \n",
       "39        Jared Cannonier   Anderson Silva    Red  Middleweight             3   \n",
       "51          Derek Brunson  Elias Theodorou    Red  Middleweight             3   \n",
       "\n",
       "    B_losses  B_wins  B_Height_cms  B_Reach_cms  B_Weight_lbs  R_losses  \\\n",
       "10       5.0     2.0        182.88       187.96         185.0       1.0   \n",
       "26       0.0     1.0        180.34       182.88         185.0       3.0   \n",
       "36       0.0     2.0        182.88       187.96         185.0       3.0   \n",
       "39       6.0    17.0        187.96       195.58         185.0       4.0   \n",
       "51       2.0     8.0        185.42       190.50         185.0       5.0   \n",
       "\n",
       "    R_wins  R_Height_cms  R_Reach_cms  R_Weight_lbs  B_age  R_age  \n",
       "10     0.0        190.50       200.66         185.0   28.0   28.0  \n",
       "26     6.0        187.96       200.66         185.0   30.0   29.0  \n",
       "36     7.0        182.88       190.50         185.0   26.0   34.0  \n",
       "39     4.0        180.34       195.58         185.0   44.0   35.0  \n",
       "51     9.0        185.42       195.58         185.0   30.0   35.0  "
      ]
     },
     "execution_count": 277,
     "metadata": {},
     "output_type": "execute_result"
    }
   ],
   "source": [
    "WeigthData = data[data[\"weight_class\"] == \"Middleweight\"]\n",
    "WeigthData.head()"
   ]
  },
  {
   "cell_type": "code",
   "execution_count": 278,
   "metadata": {},
   "outputs": [
    {
     "data": {
      "text/plain": [
       "0.6460024154589377"
      ]
     },
     "execution_count": 278,
     "metadata": {},
     "output_type": "execute_result"
    }
   ],
   "source": [
    "filtro = WeigthData[\"Winner\"] == \"Red\"\n",
    "valor_observado = WeigthData[filtro][\"R_age\"].mean() - WeigthData[~filtro][\"B_age\"].mean()\n",
    "valor_observado"
   ]
  },
  {
   "cell_type": "code",
   "execution_count": 279,
   "metadata": {},
   "outputs": [],
   "source": [
    "N = 10000\n",
    "diferencas = np.zeros(N)\n",
    "for i in range(N):\n",
    "    np.random.shuffle(filtro.values)\n",
    "    diff = WeigthData[filtro][\"R_age\"].mean() - WeigthData[~filtro][\"B_age\"].mean()\n",
    "    diferencas[i] = diff"
   ]
  },
  {
   "cell_type": "code",
   "execution_count": 280,
   "metadata": {
    "scrolled": false
   },
   "outputs": [
    {
     "data": {
      "image/png": "[encoded data removed]",
      "text/plain": [
       "<Figure size 432x288 with 1 Axes>"
      ]
     },
     "metadata": {
      "needs_background": "light"
     },
     "output_type": "display_data"
    }
   ],
   "source": [
    "plt.xlabel('Diferença na Permutação')\n",
    "plt.ylabel('Pr(diff)')\n",
    "plt.plot([valor_observado], [0], 'ro', ms=15)\n",
    "plt.hist(diferencas, bins=30, edgecolor='k')\n",
    "plt.vlines(np.percentile(diferencas, 97.5), 0 , 100, color=\"red\")\n",
    "plt.vlines(np.percentile(diferencas, 2.5), 0 , 100, color=\"red\")\n",
    "\n",
    "plt.show()"
   ]
  },
  {
   "cell_type": "markdown",
   "metadata": {},
   "source": [
    "Para ganhadores no lado Azul:"
   ]
  },
  {
   "cell_type": "code",
   "execution_count": 281,
   "metadata": {},
   "outputs": [
    {
     "data": {
      "text/plain": [
       "-0.6838083538083524"
      ]
     },
     "execution_count": 281,
     "metadata": {},
     "output_type": "execute_result"
    }
   ],
   "source": [
    "filtro = WeigthData[\"Winner\"] == \"Blue\"\n",
    "valor_observado = WeigthData[filtro][\"B_age\"].mean() - WeigthData[~filtro][\"R_age\"].mean()\n",
    "valor_observado"
   ]
  },
  {
   "cell_type": "code",
   "execution_count": 282,
   "metadata": {
    "scrolled": true
   },
   "outputs": [
    {
     "data": {
      "image/png": "[encoded data removed]",
      "text/plain": [
       "<Figure size 432x288 with 1 Axes>"
      ]
     },
     "metadata": {
      "needs_background": "light"
     },
     "output_type": "display_data"
    }
   ],
   "source": [
    "N = 10000\n",
    "diferencas = np.zeros(N)\n",
    "for i in range(N):\n",
    "    np.random.shuffle(filtro.values)\n",
    "    diff = WeigthData[filtro][\"B_age\"].mean() - WeigthData[~filtro][\"R_age\"].mean()\n",
    "    diferencas[i] = diff\n",
    "plt.xlabel('Diferença na Permutação')\n",
    "plt.ylabel('Pr(diff)')\n",
    "plt.plot([valor_observado], [0], 'ro', ms=15)\n",
    "plt.hist(diferencas, bins=30, edgecolor='k')\n",
    "plt.vlines(np.percentile(diferencas, 97.5), 0 , 100, color=\"red\")\n",
    "plt.vlines(np.percentile(diferencas, 2.5), 0 , 100, color=\"red\")\n",
    "\n",
    "plt.show()"
   ]
  },
  {
   "cell_type": "markdown",
   "metadata": {},
   "source": [
    "Podemos observar, pelo nosso Teste de Permutação, que os valores observados estão fora do intervalo de confiança para lutadores vitoriosos tanto no lado esquerdo quando no direito, sendo assim, podemos rejeitar a hipotese nula no caso de lutadores na categoria de Peso Médio."
   ]
  },
  {
   "cell_type": "markdown",
   "metadata": {},
   "source": [
    "### Peso Leve"
   ]
  },
  {
   "cell_type": "code",
   "execution_count": 283,
   "metadata": {},
   "outputs": [
    {
     "data": {
      "text/html": [
       "<div>\n",
       "<style scoped>\n",
       "    .dataframe tbody tr th:only-of-type {\n",
       "        vertical-align: middle;\n",
       "    }\n",
       "\n",
       "    .dataframe tbody tr th {\n",
       "        vertical-align: top;\n",
       "    }\n",
       "\n",
       "    .dataframe thead th {\n",
       "        text-align: right;\n",
       "    }\n",
       "</style>\n",
       "<table border=\"1\" class=\"dataframe\">\n",
       "  <thead>\n",
       "    <tr style=\"text-align: right;\">\n",
       "      <th></th>\n",
       "      <th>R_fighter</th>\n",
       "      <th>B_fighter</th>\n",
       "      <th>Winner</th>\n",
       "      <th>weight_class</th>\n",
       "      <th>no_of_rounds</th>\n",
       "      <th>B_losses</th>\n",
       "      <th>B_wins</th>\n",
       "      <th>B_Height_cms</th>\n",
       "      <th>B_Reach_cms</th>\n",
       "      <th>B_Weight_lbs</th>\n",
       "      <th>R_losses</th>\n",
       "      <th>R_wins</th>\n",
       "      <th>R_Height_cms</th>\n",
       "      <th>R_Reach_cms</th>\n",
       "      <th>R_Weight_lbs</th>\n",
       "      <th>B_age</th>\n",
       "      <th>R_age</th>\n",
       "    </tr>\n",
       "  </thead>\n",
       "  <tbody>\n",
       "    <tr>\n",
       "      <td>2</td>\n",
       "      <td>Tony Ferguson</td>\n",
       "      <td>Donald Cerrone</td>\n",
       "      <td>Red</td>\n",
       "      <td>Lightweight</td>\n",
       "      <td>3</td>\n",
       "      <td>8.0</td>\n",
       "      <td>23.0</td>\n",
       "      <td>185.42</td>\n",
       "      <td>185.42</td>\n",
       "      <td>155.0</td>\n",
       "      <td>1.0</td>\n",
       "      <td>14.0</td>\n",
       "      <td>180.34</td>\n",
       "      <td>193.04</td>\n",
       "      <td>155.0</td>\n",
       "      <td>36.0</td>\n",
       "      <td>35.0</td>\n",
       "    </tr>\n",
       "    <tr>\n",
       "      <td>16</td>\n",
       "      <td>Damir Hadzovic</td>\n",
       "      <td>Christos Giagos</td>\n",
       "      <td>Blue</td>\n",
       "      <td>Lightweight</td>\n",
       "      <td>3</td>\n",
       "      <td>3.0</td>\n",
       "      <td>2.0</td>\n",
       "      <td>177.80</td>\n",
       "      <td>180.34</td>\n",
       "      <td>155.0</td>\n",
       "      <td>2.0</td>\n",
       "      <td>3.0</td>\n",
       "      <td>175.26</td>\n",
       "      <td>177.80</td>\n",
       "      <td>155.0</td>\n",
       "      <td>29.0</td>\n",
       "      <td>32.0</td>\n",
       "    </tr>\n",
       "    <tr>\n",
       "      <td>20</td>\n",
       "      <td>Stevie Ray</td>\n",
       "      <td>Leonardo Santos</td>\n",
       "      <td>Blue</td>\n",
       "      <td>Lightweight</td>\n",
       "      <td>3</td>\n",
       "      <td>1.0</td>\n",
       "      <td>5.0</td>\n",
       "      <td>182.88</td>\n",
       "      <td>190.50</td>\n",
       "      <td>155.0</td>\n",
       "      <td>3.0</td>\n",
       "      <td>6.0</td>\n",
       "      <td>177.80</td>\n",
       "      <td>177.80</td>\n",
       "      <td>155.0</td>\n",
       "      <td>39.0</td>\n",
       "      <td>29.0</td>\n",
       "    </tr>\n",
       "    <tr>\n",
       "      <td>21</td>\n",
       "      <td>Nick Hein</td>\n",
       "      <td>Frank Camacho</td>\n",
       "      <td>Blue</td>\n",
       "      <td>Lightweight</td>\n",
       "      <td>3</td>\n",
       "      <td>2.0</td>\n",
       "      <td>1.0</td>\n",
       "      <td>177.80</td>\n",
       "      <td>185.42</td>\n",
       "      <td>170.0</td>\n",
       "      <td>3.0</td>\n",
       "      <td>4.0</td>\n",
       "      <td>167.64</td>\n",
       "      <td>167.64</td>\n",
       "      <td>155.0</td>\n",
       "      <td>30.0</td>\n",
       "      <td>35.0</td>\n",
       "    </tr>\n",
       "    <tr>\n",
       "      <td>24</td>\n",
       "      <td>Joel Alvarez</td>\n",
       "      <td>Danilo Belluardo</td>\n",
       "      <td>Red</td>\n",
       "      <td>Lightweight</td>\n",
       "      <td>3</td>\n",
       "      <td>0.0</td>\n",
       "      <td>0.0</td>\n",
       "      <td>182.88</td>\n",
       "      <td>187.96</td>\n",
       "      <td>155.0</td>\n",
       "      <td>1.0</td>\n",
       "      <td>0.0</td>\n",
       "      <td>190.50</td>\n",
       "      <td>195.58</td>\n",
       "      <td>155.0</td>\n",
       "      <td>24.0</td>\n",
       "      <td>25.0</td>\n",
       "    </tr>\n",
       "  </tbody>\n",
       "</table>\n",
       "</div>"
      ],
      "text/plain": [
       "         R_fighter         B_fighter Winner weight_class  no_of_rounds  \\\n",
       "2    Tony Ferguson    Donald Cerrone    Red  Lightweight             3   \n",
       "16  Damir Hadzovic   Christos Giagos   Blue  Lightweight             3   \n",
       "20      Stevie Ray   Leonardo Santos   Blue  Lightweight             3   \n",
       "21       Nick Hein     Frank Camacho   Blue  Lightweight             3   \n",
       "24    Joel Alvarez  Danilo Belluardo    Red  Lightweight             3   \n",
       "\n",
       "    B_losses  B_wins  B_Height_cms  B_Reach_cms  B_Weight_lbs  R_losses  \\\n",
       "2        8.0    23.0        185.42       185.42         155.0       1.0   \n",
       "16       3.0     2.0        177.80       180.34         155.0       2.0   \n",
       "20       1.0     5.0        182.88       190.50         155.0       3.0   \n",
       "21       2.0     1.0        177.80       185.42         170.0       3.0   \n",
       "24       0.0     0.0        182.88       187.96         155.0       1.0   \n",
       "\n",
       "    R_wins  R_Height_cms  R_Reach_cms  R_Weight_lbs  B_age  R_age  \n",
       "2     14.0        180.34       193.04         155.0   36.0   35.0  \n",
       "16     3.0        175.26       177.80         155.0   29.0   32.0  \n",
       "20     6.0        177.80       177.80         155.0   39.0   29.0  \n",
       "21     4.0        167.64       167.64         155.0   30.0   35.0  \n",
       "24     0.0        190.50       195.58         155.0   24.0   25.0  "
      ]
     },
     "execution_count": 283,
     "metadata": {},
     "output_type": "execute_result"
    }
   ],
   "source": [
    "WeigthData = data[data[\"weight_class\"] == \"Lightweight\"]\n",
    "WeigthData.head()"
   ]
  },
  {
   "cell_type": "code",
   "execution_count": 284,
   "metadata": {},
   "outputs": [
    {
     "data": {
      "text/plain": [
       "-0.12139266205829458"
      ]
     },
     "execution_count": 284,
     "metadata": {},
     "output_type": "execute_result"
    }
   ],
   "source": [
    "filtro = WeigthData[\"Winner\"] == \"Red\"\n",
    "valor_observado = WeigthData[filtro][\"R_age\"].mean() - WeigthData[~filtro][\"B_age\"].mean()\n",
    "valor_observado"
   ]
  },
  {
   "cell_type": "code",
   "execution_count": 285,
   "metadata": {},
   "outputs": [],
   "source": [
    "N = 10000\n",
    "diferencas = np.zeros(N)\n",
    "for i in range(N):\n",
    "    np.random.shuffle(filtro.values)\n",
    "    diff = WeigthData[filtro][\"R_age\"].mean() - WeigthData[~filtro][\"B_age\"].mean()\n",
    "    diferencas[i] = diff"
   ]
  },
  {
   "cell_type": "code",
   "execution_count": 286,
   "metadata": {
    "scrolled": false
   },
   "outputs": [
    {
     "data": {
      "image/png": "[encoded data removed]",
      "text/plain": [
       "<Figure size 432x288 with 1 Axes>"
      ]
     },
     "metadata": {
      "needs_background": "light"
     },
     "output_type": "display_data"
    }
   ],
   "source": [
    "plt.xlabel('Diferença na Permutação')\n",
    "plt.ylabel('Pr(diff)')\n",
    "plt.plot([valor_observado], [0], 'ro', ms=15)\n",
    "plt.hist(diferencas, bins=30, edgecolor='k')\n",
    "plt.vlines(np.percentile(diferencas, 2.5), 0 , 120, color=\"red\")\n",
    "plt.show()"
   ]
  },
  {
   "cell_type": "markdown",
   "metadata": {},
   "source": [
    "Para ganhadores no lado Azul:"
   ]
  },
  {
   "cell_type": "code",
   "execution_count": 287,
   "metadata": {},
   "outputs": [
    {
     "data": {
      "text/plain": [
       "0.11799410029498247"
      ]
     },
     "execution_count": 287,
     "metadata": {},
     "output_type": "execute_result"
    }
   ],
   "source": [
    "filtro = WeigthData[\"Winner\"] == \"Blue\"\n",
    "valor_observado = WeigthData[filtro][\"B_age\"].mean() - WeigthData[~filtro][\"R_age\"].mean()\n",
    "valor_observado"
   ]
  },
  {
   "cell_type": "code",
   "execution_count": 288,
   "metadata": {
    "scrolled": true
   },
   "outputs": [
    {
     "data": {
      "image/png": "[encoded data removed]",
      "text/plain": [
       "<Figure size 432x288 with 1 Axes>"
      ]
     },
     "metadata": {
      "needs_background": "light"
     },
     "output_type": "display_data"
    }
   ],
   "source": [
    "N = 10000\n",
    "diferencas = np.zeros(N)\n",
    "for i in range(N):\n",
    "    np.random.shuffle(filtro.values)\n",
    "    diff = WeigthData[filtro][\"B_age\"].mean() - WeigthData[~filtro][\"R_age\"].mean()\n",
    "    diferencas[i] = diff\n",
    "plt.xlabel('Diferença na Permutação')\n",
    "plt.ylabel('Pr(diff)')\n",
    "plt.plot([valor_observado], [0], 'ro', ms=15)\n",
    "plt.hist(diferencas, bins=30, edgecolor='k')\n",
    "plt.vlines(np.percentile(diferencas, 97.5), 0 , 450, color=\"red\")\n",
    "plt.show()"
   ]
  },
  {
   "cell_type": "markdown",
   "metadata": {},
   "source": [
    "Podemos observar, pelo nosso Teste de Permutação, que os valores observados estão fora do intervalo de confiança para lutadores vitoriosos tanto no lado esquerdo quando no direito, sendo assim, podemos rejeitar a hipotese nula no caso de lutadores na categoria de Peso Leve."
   ]
  },
  {
   "cell_type": "markdown",
   "metadata": {},
   "source": [
    "### Conclusão:"
   ]
  },
  {
   "cell_type": "markdown",
   "metadata": {},
   "source": [
    "Para cada peso podemos concluir que:\n",
    "     \n",
    "   * Peso Pesado: Os dados observados nos nossos testes indicam que para vencedores no lado vermelho, a idade tem influência, pois o valor visto no mundo real possui valor fora do intervalo de confiança, porém o mesmo não ocorre para lutadores no lado azul.\n",
    "   * Peso Médio: Os dados observados nos nossos testes indicam que a idade não tem influência nos resultados das lutas pois os valores observados estão dentro do intervalo de confiança.\n",
    "   * Peso Leve: Independente do lado que o lutador se encontra, a diferença de idade tem inflência no resultado final da luta."
   ]
  },
  {
   "cell_type": "markdown",
   "metadata": {},
   "source": [
    "#### Observações:"
   ]
  },
  {
   "cell_type": "markdown",
   "metadata": {},
   "source": [
    "Durante o estudo do dataset, notamos que geralmente, lutadores que lutam no lado vermelho tendem a ganhar mais lutas."
   ]
  },
  {
   "cell_type": "code",
   "execution_count": 51,
   "metadata": {},
   "outputs": [
    {
     "data": {
      "text/plain": [
       "246"
      ]
     },
     "execution_count": 51,
     "metadata": {},
     "output_type": "execute_result"
    }
   ],
   "source": [
    "filtro = WeigthData[\"Winner\"] == \"Red\"\n",
    "WeigthData[filtro][\"Winner\"].count() - WeigthData[~filtro][\"Winner\"].count()"
   ]
  },
  {
   "cell_type": "markdown",
   "metadata": {},
   "source": [
    "Após isso, fizemos uma pesquisa e vimos que na UFC, a escolha dos lados são feitas através do sistema de ranqueamento da competição, com o lutador com ranking mais alto usando a luva vermelha, e o lutador com menor ranking usando a luva azul. Logo, faz sentido os resultados serem historicamente favoraveis ao lado vermelho, já que estes estão acima no ranking geral da UFC."
   ]
  },
  {
   "cell_type": "markdown",
   "metadata": {},
   "source": [
    "### 2. Quais atributos e configurações de luta aumentam a possibilidade de vitória?"
   ]
  },
  {
   "cell_type": "code",
   "execution_count": null,
   "metadata": {},
   "outputs": [],
   "source": []
  },
  {
   "cell_type": "markdown",
   "metadata": {},
   "source": [
    "### 3. É possivel prever o resultado de uma luta baseado nos atributos dos lutadores?"
   ]
  },
  {
   "cell_type": "code",
   "execution_count": 117,
   "metadata": {},
   "outputs": [],
   "source": [
    "wdata = data[data[\"weight_class\"] == \"Heavyweight\"]\n",
    "\n",
    "Y = wdata[\"Winner\"]\n",
    "X = wdata[[\n",
    "    \"B_wins\", \n",
    "    \"R_wins\", \n",
    "    \"B_losses\", \n",
    "    \"R_losses\", \n",
    "    \"B_age\", \n",
    "    \"R_age\", \n",
    "    \"R_Height_cms\",\n",
    "    \"R_Reach_cms\",\n",
    "    \"R_Weight_lbs\",\n",
    "    \"B_Height_cms\",\n",
    "    \"B_Reach_cms\",\n",
    "    \"B_Weight_lbs\"\n",
    "]]"
   ]
  },
  {
   "cell_type": "markdown",
   "metadata": {},
   "source": [
    "## Regreção Logistica"
   ]
  },
  {
   "cell_type": "code",
   "execution_count": 118,
   "metadata": {},
   "outputs": [
    {
     "name": "stdout",
     "output_type": "stream",
     "text": [
      "precisão: 0.6629213483146067\n"
     ]
    }
   ],
   "source": [
    "logistic = LogisticRegression(solver='lbfgs', max_iter=1000, multi_class='ovr')\n",
    "X_Treino, X_Teste, Y_Treino, Y_Teste = train_test_split(X, Y)\n",
    "logistic = logistic.fit(X_Treino, Y_Treino)\n",
    "score = logistic.score(X_Teste, Y_Teste)\n",
    "print(\"precisão:\", score)"
   ]
  },
  {
   "cell_type": "markdown",
   "metadata": {},
   "source": [
    "## KNN"
   ]
  },
  {
   "cell_type": "code",
   "execution_count": 119,
   "metadata": {},
   "outputs": [
    {
     "name": "stdout",
     "output_type": "stream",
     "text": [
      "k: 4\n",
      "accuracy: 0.6629213483146067\n"
     ]
    }
   ],
   "source": [
    "def precisao(k, X, Y):\n",
    "    xTreino, xValidacao, yTreino, yValidacao = train_test_split(X, Y, test_size=0.25, random_state=1)\n",
    "    knn = KNeighborsClassifier(n_neighbors=k, weights='distance')\n",
    "    knn.fit(xTreino, yTreino)\n",
    "    validacao = knn.predict(xValidacao)\n",
    "    return accuracy_score(yValidacao, validacao)\n",
    "\n",
    "bestk =(0, 0)\n",
    "for i in [1,2,3,4,5,6,7,8,9,10]:\n",
    "    p = precisao(i, X, Y)\n",
    "    if(p > bestk[1]):\n",
    "        bestk = (i, p)\n",
    "\n",
    "k, acc = bestk\n",
    "\n",
    "print(\"k:\", k)\n",
    "print(\"accuracy:\", acc)\n"
   ]
  },
  {
   "cell_type": "markdown",
   "metadata": {},
   "source": [
    "Utilizando nossos dados, é possivel prever o resultado de uma luta utilizando os atributos dos lutadores, com precisão de maior ou igual à 60%"
   ]
  },
  {
   "cell_type": "code",
   "execution_count": null,
   "metadata": {},
   "outputs": [],
   "source": []
  }
 ],
 "metadata": {
  "kernelspec": {
   "display_name": "Python 3",
   "language": "python",
   "name": "python3"
  },
  "language_info": {
   "codemirror_mode": {
    "name": "ipython",
    "version": 3
   },
   "file_extension": ".py",
   "mimetype": "text/x-python",
   "name": "python",
   "nbconvert_exporter": "python",
   "pygments_lexer": "ipython3",
   "version": "3.7.5"
  }
 },
 "nbformat": 4,
 "nbformat_minor": 2
}
