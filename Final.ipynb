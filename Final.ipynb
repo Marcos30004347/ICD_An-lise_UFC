{
 "cells": [
  {
   "cell_type": "markdown",
   "metadata": {},
   "source": [
    "# ICD - Projeto final: The UFC"
   ]
  },
  {
   "cell_type": "markdown",
   "metadata": {},
   "source": [
    "\n",
    "## 1. Introdução e motivação:\n"
   ]
  },
  {
   "cell_type": "markdown",
   "metadata": {},
   "source": [
    "Artes marciais mistas (MMA) é um esporte de combate de contato que permite golpear e agarrar, tanto em pé quanto no chão, usando técnicas de outros esportes de combate e artes marciais. O Ultimate Fighting Championship (UFC) é uma organização americana de artes marciais mistas sediada em Las Vegas, Nevada e é a maior promoção de MMA do mundo. Além disso, o UFC apresenta os lutadores mais bem classificados do esporte. Sediado nos Estados Unidos, essa competição produz eventos em todo o mundo que mostram doze divisões de peso e cumprem as Regras Unificadas de Artes Marciais Mistas. Este é um esporte altamente imprevisível.\n",
    "\n",
    "O objetivo do trabalho é analisar a suposta 'imprevisibilidade' do UFC/MMA e tentar descobrir quais fatores presentes em um lutador podem ou não aumentar a possibiliadde de vitória. Os dados aqui utilizados foram retirados de um dataset do site kaggle , que recolhe dados de lutas realizadas no UFC, bem como as principais características dos participantes de cada uma delas. Algumas características dos dados serão analisadas a seguir.\n"
   ]
  },
  {
   "cell_type": "markdown",
   "metadata": {},
   "source": [
    "### 1.1 Perguntas:"
   ]
  },
  {
   "cell_type": "markdown",
   "metadata": {},
   "source": [
    "   * A idade tem uma distribuição uniformemente aleatória para o vencedor?\n",
    "   * Quais atributos e configurações de luta aumentam a possibilidade de vitória?\n",
    "   * É possivel prever o resultado de uma luta baseado nos atributos dos lutadores?"
   ]
  },
  {
   "cell_type": "markdown",
   "metadata": {},
   "source": [
    "\n",
    "### 1.2 Importando dependências e abrindo o banco:"
   ]
  },
  {
   "cell_type": "markdown",
   "metadata": {},
   "source": [
    "Analisando os dados abaixo, é importante ressaltar que  cada linha do dataset é relativa a uma luta. As colunas que se iniciam com a letra 'R' são referentes ao lutador _RED_, ou seja o lutador _vermelho_. Assim como aquelas colunas que se iniciam com a letra 'B'  são relativos ao lutador _azul_. Essa é uma forma que o esporte utiliza de identificar os lutadores. Essa classificação de _vermelho_ ou _azul_ também será discutida posteriormente."
   ]
  },
  {
   "cell_type": "code",
   "execution_count": 1,
   "metadata": {},
   "outputs": [],
   "source": [
    "import matplotlib.pyplot as plt\n",
    "import pandas as pd \n",
    "import numpy as np\n",
    "import scipy as spy\n",
    "import seaborn as sns\n",
    "import matplotlib.pyplot as plt\n",
    "from sklearn.linear_model import LogisticRegression\n",
    "from sklearn.metrics import accuracy_score\n",
    "from sklearn.model_selection import train_test_split\n",
    "from sklearn.neighbors import KNeighborsClassifier"
   ]
  },
  {
   "cell_type": "code",
   "execution_count": 5,
   "metadata": {},
   "outputs": [
    {
     "data": {
      "text/html": [
       "<div>\n",
       "<style scoped>\n",
       "    .dataframe tbody tr th:only-of-type {\n",
       "        vertical-align: middle;\n",
       "    }\n",
       "\n",
       "    .dataframe tbody tr th {\n",
       "        vertical-align: top;\n",
       "    }\n",
       "\n",
       "    .dataframe thead th {\n",
       "        text-align: right;\n",
       "    }\n",
       "</style>\n",
       "<table border=\"1\" class=\"dataframe\">\n",
       "  <thead>\n",
       "    <tr style=\"text-align: right;\">\n",
       "      <th></th>\n",
       "      <th>R_fighter</th>\n",
       "      <th>B_fighter</th>\n",
       "      <th>date</th>\n",
       "      <th>Winner</th>\n",
       "      <th>weight_class</th>\n",
       "      <th>no_of_rounds</th>\n",
       "      <th>B_losses</th>\n",
       "      <th>B_wins</th>\n",
       "      <th>B_Stance</th>\n",
       "      <th>B_Height_cms</th>\n",
       "      <th>B_Reach_cms</th>\n",
       "      <th>B_Weight_lbs</th>\n",
       "      <th>R_losses</th>\n",
       "      <th>R_wins</th>\n",
       "      <th>R_Stance</th>\n",
       "      <th>R_Height_cms</th>\n",
       "      <th>R_Reach_cms</th>\n",
       "      <th>R_Weight_lbs</th>\n",
       "      <th>B_age</th>\n",
       "      <th>R_age</th>\n",
       "    </tr>\n",
       "  </thead>\n",
       "  <tbody>\n",
       "    <tr>\n",
       "      <th>0</th>\n",
       "      <td>Henry Cejudo</td>\n",
       "      <td>Marlon Moraes</td>\n",
       "      <td>2019-06-08</td>\n",
       "      <td>Red</td>\n",
       "      <td>Bantamweight</td>\n",
       "      <td>5</td>\n",
       "      <td>1.0</td>\n",
       "      <td>4.0</td>\n",
       "      <td>Orthodox</td>\n",
       "      <td>167.64</td>\n",
       "      <td>170.18</td>\n",
       "      <td>135.0</td>\n",
       "      <td>2.0</td>\n",
       "      <td>8.0</td>\n",
       "      <td>Orthodox</td>\n",
       "      <td>162.56</td>\n",
       "      <td>162.56</td>\n",
       "      <td>135.0</td>\n",
       "      <td>31.0</td>\n",
       "      <td>32.0</td>\n",
       "    </tr>\n",
       "    <tr>\n",
       "      <th>1</th>\n",
       "      <td>Valentina Shevchenko</td>\n",
       "      <td>Jessica Eye</td>\n",
       "      <td>2019-06-08</td>\n",
       "      <td>Red</td>\n",
       "      <td>Women's Flyweight</td>\n",
       "      <td>5</td>\n",
       "      <td>6.0</td>\n",
       "      <td>4.0</td>\n",
       "      <td>Orthodox</td>\n",
       "      <td>167.64</td>\n",
       "      <td>167.64</td>\n",
       "      <td>125.0</td>\n",
       "      <td>2.0</td>\n",
       "      <td>5.0</td>\n",
       "      <td>Southpaw</td>\n",
       "      <td>165.10</td>\n",
       "      <td>167.64</td>\n",
       "      <td>125.0</td>\n",
       "      <td>32.0</td>\n",
       "      <td>31.0</td>\n",
       "    </tr>\n",
       "    <tr>\n",
       "      <th>2</th>\n",
       "      <td>Tony Ferguson</td>\n",
       "      <td>Donald Cerrone</td>\n",
       "      <td>2019-06-08</td>\n",
       "      <td>Red</td>\n",
       "      <td>Lightweight</td>\n",
       "      <td>3</td>\n",
       "      <td>8.0</td>\n",
       "      <td>23.0</td>\n",
       "      <td>Orthodox</td>\n",
       "      <td>185.42</td>\n",
       "      <td>185.42</td>\n",
       "      <td>155.0</td>\n",
       "      <td>1.0</td>\n",
       "      <td>14.0</td>\n",
       "      <td>Orthodox</td>\n",
       "      <td>180.34</td>\n",
       "      <td>193.04</td>\n",
       "      <td>155.0</td>\n",
       "      <td>36.0</td>\n",
       "      <td>35.0</td>\n",
       "    </tr>\n",
       "    <tr>\n",
       "      <th>3</th>\n",
       "      <td>Jimmie Rivera</td>\n",
       "      <td>Petr Yan</td>\n",
       "      <td>2019-06-08</td>\n",
       "      <td>Blue</td>\n",
       "      <td>Bantamweight</td>\n",
       "      <td>3</td>\n",
       "      <td>0.0</td>\n",
       "      <td>4.0</td>\n",
       "      <td>Switch</td>\n",
       "      <td>170.18</td>\n",
       "      <td>170.18</td>\n",
       "      <td>135.0</td>\n",
       "      <td>2.0</td>\n",
       "      <td>6.0</td>\n",
       "      <td>Orthodox</td>\n",
       "      <td>162.56</td>\n",
       "      <td>172.72</td>\n",
       "      <td>135.0</td>\n",
       "      <td>26.0</td>\n",
       "      <td>29.0</td>\n",
       "    </tr>\n",
       "    <tr>\n",
       "      <th>4</th>\n",
       "      <td>Tai Tuivasa</td>\n",
       "      <td>Blagoy Ivanov</td>\n",
       "      <td>2019-06-08</td>\n",
       "      <td>Blue</td>\n",
       "      <td>Heavyweight</td>\n",
       "      <td>3</td>\n",
       "      <td>1.0</td>\n",
       "      <td>1.0</td>\n",
       "      <td>Southpaw</td>\n",
       "      <td>180.34</td>\n",
       "      <td>185.42</td>\n",
       "      <td>250.0</td>\n",
       "      <td>1.0</td>\n",
       "      <td>3.0</td>\n",
       "      <td>Southpaw</td>\n",
       "      <td>187.96</td>\n",
       "      <td>190.50</td>\n",
       "      <td>264.0</td>\n",
       "      <td>32.0</td>\n",
       "      <td>26.0</td>\n",
       "    </tr>\n",
       "  </tbody>\n",
       "</table>\n",
       "</div>"
      ],
      "text/plain": [
       "              R_fighter       B_fighter        date Winner       weight_class  \\\n",
       "0          Henry Cejudo   Marlon Moraes  2019-06-08    Red       Bantamweight   \n",
       "1  Valentina Shevchenko     Jessica Eye  2019-06-08    Red  Women's Flyweight   \n",
       "2         Tony Ferguson  Donald Cerrone  2019-06-08    Red        Lightweight   \n",
       "3         Jimmie Rivera        Petr Yan  2019-06-08   Blue       Bantamweight   \n",
       "4           Tai Tuivasa   Blagoy Ivanov  2019-06-08   Blue        Heavyweight   \n",
       "\n",
       "   no_of_rounds  B_losses  B_wins  B_Stance  B_Height_cms  B_Reach_cms  \\\n",
       "0             5       1.0     4.0  Orthodox        167.64       170.18   \n",
       "1             5       6.0     4.0  Orthodox        167.64       167.64   \n",
       "2             3       8.0    23.0  Orthodox        185.42       185.42   \n",
       "3             3       0.0     4.0    Switch        170.18       170.18   \n",
       "4             3       1.0     1.0  Southpaw        180.34       185.42   \n",
       "\n",
       "   B_Weight_lbs  R_losses  R_wins  R_Stance  R_Height_cms  R_Reach_cms  \\\n",
       "0         135.0       2.0     8.0  Orthodox        162.56       162.56   \n",
       "1         125.0       2.0     5.0  Southpaw        165.10       167.64   \n",
       "2         155.0       1.0    14.0  Orthodox        180.34       193.04   \n",
       "3         135.0       2.0     6.0  Orthodox        162.56       172.72   \n",
       "4         250.0       1.0     3.0  Southpaw        187.96       190.50   \n",
       "\n",
       "   R_Weight_lbs  B_age  R_age  \n",
       "0         135.0   31.0   32.0  \n",
       "1         125.0   32.0   31.0  \n",
       "2         155.0   36.0   35.0  \n",
       "3         135.0   26.0   29.0  \n",
       "4         264.0   32.0   26.0  "
      ]
     },
     "execution_count": 5,
     "metadata": {},
     "output_type": "execute_result"
    }
   ],
   "source": [
    "# Definindo as colunas que serão utilizadas \n",
    "columns = [\n",
    "    \"date\",\n",
    "    \"R_fighter\",  # R = red (lutador de luvas vermelhas)\n",
    "    \"B_fighter\",  # B = blue (lutador de luvas azuis)\n",
    "    \"Winner\",\n",
    "    \"weight_class\",\n",
    "    \"no_of_rounds\",\n",
    "    \"B_wins\", \n",
    "    \"R_wins\", \n",
    "    \"B_losses\", \n",
    "    \"R_losses\", \n",
    "    \"B_age\", \n",
    "    \"R_age\", \n",
    "    \"R_Height_cms\",\n",
    "    \"R_Reach_cms\",\n",
    "    \"R_Weight_lbs\",\n",
    "    \"B_Height_cms\",\n",
    "    \"B_Reach_cms\",\n",
    "    \"B_Weight_lbs\",\n",
    "    \"R_Stance\",\n",
    "    \"B_Stance\"\n",
    "]\n",
    "data = pd.read_csv(\"ufcdata/data.csv\",encoding='latin-1', usecols=columns)\n",
    "data.head()"
   ]
  },
  {
   "cell_type": "markdown",
   "metadata": {},
   "source": [
    "\n",
    "## 2. Exploração dos dados"
   ]
  },
  {
   "cell_type": "markdown",
   "metadata": {},
   "source": [
    "\n",
    "### 2.1 Número médio de rounds por ano"
   ]
  },
  {
   "cell_type": "code",
   "execution_count": 9,
   "metadata": {},
   "outputs": [
    {
     "data": {
      "image/png": "[encoded data removed]",
      "text/plain": [
       "<Figure size 1346.4x739.44 with 1 Axes>"
      ]
     },
     "metadata": {},
     "output_type": "display_data"
    }
   ],
   "source": [
    "# get db copy\n",
    "dbcopy = data.copy()\n",
    "\n",
    "# get only year of date\n",
    "year = []\n",
    "for index,row in data.iterrows():\n",
    "    year.append(row.date[0:4])\n",
    "\n",
    "# add year in db copy    \n",
    "dbcopy['year'] = year\n",
    "\n",
    "years = [\n",
    "    '2019','2018','2017',     \n",
    "    '2016','2015','2014','2013',\n",
    "    '2012','2011','2010','2009',\n",
    "    '2008','2007','2006','2005',\n",
    "    '2004','2003','2002','2001',\n",
    "    '2000','1999','1998','1997',\n",
    "    '1996','1995','1994','1993'\n",
    "    ]\n",
    "\n",
    "#rounds_per_year = dbcopy.groupby('year')\n",
    "r = dbcopy[['no_of_rounds','year']]\n",
    "\n",
    "indexYear = 0\n",
    "mean = 0\n",
    "roundsArrayMean = []\n",
    "iterator = 0\n",
    "\n",
    "\n",
    "\n",
    "for index,line in r.iterrows():\n",
    "    if (index == len(r)-1):\n",
    "        mean = mean/iterator\n",
    "        roundsArrayMean.append(mean)\n",
    "        \n",
    "    if(line.year == years[indexYear]):\n",
    "        mean = line.no_of_rounds + mean\n",
    "        iterator = iterator + 1\n",
    "    else:\n",
    "        mean = mean/iterator\n",
    "        roundsArrayMean.append(mean)\n",
    "        mean = 0\n",
    "        iterator = 0\n",
    "        indexYear = indexYear + 1\n",
    "        mean = line.no_of_rounds + mean\n",
    "        iterator = iterator + 1\n",
    "        \n",
    "Data = {\n",
    "    'Year': years,\n",
    "    'Mean': roundsArrayMean\n",
    "}\n",
    "df = pd.DataFrame(Data, columns=['Year', 'Mean'])\n",
    "        \n",
    "chart = sns.barplot(x='Year',y='Mean', data=df)\n",
    "chart.set_xticklabels(chart.get_xticklabels(), rotation=90)\n",
    "\n",
    "# set chart size\n",
    "sns.set(rc={'figure.figsize':(18.7,10.27)})\n",
    "# Título do plot\n",
    "plt.title(\"Número médio de rounds por ano\", fontsize=25)\n",
    "# Nome do eixo x\n",
    "plt.xlabel('Ano', fontsize=25)\n",
    "# Nome do eixo y\n",
    "plt.ylabel('Número médio de Rounds', fontsize=25)\n",
    "plt.show()"
   ]
  },
  {
   "cell_type": "markdown",
   "metadata": {},
   "source": [
    "A análise dos dados acima permite concluir que lutas ocorridas na década de 90 tendem a ter um número menor de rounds. Isso provavelmente está relacionado com a própria evolução do esporte(das próprias regras em si) e também da qualidade dos lutadores, que tendem a realizar lutas mais demoradas (onde não ocorre nocaute).\n"
   ]
  },
  {
   "cell_type": "markdown",
   "metadata": {},
   "source": [
    "\n",
    "### 2.2 Número de vitórias por lutador (quem é o mais vitorioso?)"
   ]
  },
  {
   "cell_type": "code",
   "execution_count": 10,
   "metadata": {},
   "outputs": [
    {
     "data": {
      "text/html": [
       "<div>\n",
       "<style scoped>\n",
       "    .dataframe tbody tr th:only-of-type {\n",
       "        vertical-align: middle;\n",
       "    }\n",
       "\n",
       "    .dataframe tbody tr th {\n",
       "        vertical-align: top;\n",
       "    }\n",
       "\n",
       "    .dataframe thead th {\n",
       "        text-align: right;\n",
       "    }\n",
       "</style>\n",
       "<table border=\"1\" class=\"dataframe\">\n",
       "  <thead>\n",
       "    <tr style=\"text-align: right;\">\n",
       "      <th></th>\n",
       "      <th>index</th>\n",
       "      <th>Fighter</th>\n",
       "      <th>WinsCount</th>\n",
       "    </tr>\n",
       "  </thead>\n",
       "  <tbody>\n",
       "    <tr>\n",
       "      <th>0</th>\n",
       "      <td>50</td>\n",
       "      <td>Donald Cerrone</td>\n",
       "      <td>23</td>\n",
       "    </tr>\n",
       "    <tr>\n",
       "      <th>1</th>\n",
       "      <td>1269</td>\n",
       "      <td>Michael Bisping</td>\n",
       "      <td>20</td>\n",
       "    </tr>\n",
       "    <tr>\n",
       "      <th>2</th>\n",
       "      <td>199</td>\n",
       "      <td>Demian Maia</td>\n",
       "      <td>20</td>\n",
       "    </tr>\n",
       "    <tr>\n",
       "      <th>3</th>\n",
       "      <td>793</td>\n",
       "      <td>Georges St-Pierre</td>\n",
       "      <td>20</td>\n",
       "    </tr>\n",
       "    <tr>\n",
       "      <th>4</th>\n",
       "      <td>149</td>\n",
       "      <td>Jon Jones</td>\n",
       "      <td>19</td>\n",
       "    </tr>\n",
       "  </tbody>\n",
       "</table>\n",
       "</div>"
      ],
      "text/plain": [
       "   index            Fighter  WinsCount\n",
       "0     50     Donald Cerrone         23\n",
       "1   1269    Michael Bisping         20\n",
       "2    199        Demian Maia         20\n",
       "3    793  Georges St-Pierre         20\n",
       "4    149          Jon Jones         19"
      ]
     },
     "execution_count": 10,
     "metadata": {},
     "output_type": "execute_result"
    }
   ],
   "source": [
    "dbcopy = data.copy()\n",
    "winners = []\n",
    "for index,row in dbcopy.iterrows():\n",
    "    if (row.Winner == 'Red'):\n",
    "        winners.append(row.R_fighter)\n",
    "    else:\n",
    "        winners.append(row.B_fighter)\n",
    "        \n",
    "victoryCount = []\n",
    "for winner in winners:\n",
    "    victoryCount.append(winners.count(winner))\n",
    "    \n",
    "Data = {\n",
    "    'Fighter': winners,\n",
    "    'WinsCount': victoryCount\n",
    "}\n",
    "df = pd.DataFrame(Data, columns=['Fighter', 'WinsCount'])\n",
    "df = df.drop_duplicates()\n",
    "df = df.sort_values(by=['WinsCount'], ascending=False).reset_index()\n",
    "df.head()"
   ]
  },
  {
   "cell_type": "markdown",
   "metadata": {},
   "source": [
    "Nessa tabela temos o ranking de lutadores por número de vitórias. Especificamente, os cinco lutadores mais vitoriosos da história do UFC."
   ]
  },
  {
   "cell_type": "markdown",
   "metadata": {},
   "source": [
    "\n",
    "### 2.3 Postura de luta mais vitoriosa (em porcentagem)\n"
   ]
  },
  {
   "cell_type": "markdown",
   "metadata": {},
   "source": [
    "Explicando uma pouco melhor, cada lutador possui a chamada _postura de luta_. Essa postura define como os braços e as pernas estão posicionados e qual dos lados (esquerdo ou direito) é o principal para atacar e o principal para defender. Aqui, será analisado qual postura tem maior porcentagem de vitória."
   ]
  },
  {
   "cell_type": "code",
   "execution_count": 11,
   "metadata": {},
   "outputs": [
    {
     "data": {
      "text/html": [
       "<div>\n",
       "<style scoped>\n",
       "    .dataframe tbody tr th:only-of-type {\n",
       "        vertical-align: middle;\n",
       "    }\n",
       "\n",
       "    .dataframe tbody tr th {\n",
       "        vertical-align: top;\n",
       "    }\n",
       "\n",
       "    .dataframe thead th {\n",
       "        text-align: right;\n",
       "    }\n",
       "</style>\n",
       "<table border=\"1\" class=\"dataframe\">\n",
       "  <thead>\n",
       "    <tr style=\"text-align: right;\">\n",
       "      <th></th>\n",
       "      <th>Stance</th>\n",
       "      <th>WinsCount</th>\n",
       "      <th>LossCount</th>\n",
       "      <th>VictoryPercentage</th>\n",
       "    </tr>\n",
       "  </thead>\n",
       "  <tbody>\n",
       "    <tr>\n",
       "      <th>0</th>\n",
       "      <td>Orthodox</td>\n",
       "      <td>3781</td>\n",
       "      <td>3855</td>\n",
       "      <td>49.515453</td>\n",
       "    </tr>\n",
       "    <tr>\n",
       "      <th>1</th>\n",
       "      <td>Southpaw</td>\n",
       "      <td>1063</td>\n",
       "      <td>948</td>\n",
       "      <td>52.859274</td>\n",
       "    </tr>\n",
       "    <tr>\n",
       "      <th>2</th>\n",
       "      <td>Switch</td>\n",
       "      <td>165</td>\n",
       "      <td>153</td>\n",
       "      <td>51.886792</td>\n",
       "    </tr>\n",
       "    <tr>\n",
       "      <th>4</th>\n",
       "      <td>Open Stance</td>\n",
       "      <td>13</td>\n",
       "      <td>11</td>\n",
       "      <td>54.166667</td>\n",
       "    </tr>\n",
       "    <tr>\n",
       "      <th>5</th>\n",
       "      <td>Sideways</td>\n",
       "      <td>2</td>\n",
       "      <td>4</td>\n",
       "      <td>33.333333</td>\n",
       "    </tr>\n",
       "  </tbody>\n",
       "</table>\n",
       "</div>"
      ],
      "text/plain": [
       "        Stance  WinsCount  LossCount  VictoryPercentage\n",
       "0     Orthodox       3781       3855          49.515453\n",
       "1     Southpaw       1063        948          52.859274\n",
       "2       Switch        165        153          51.886792\n",
       "4  Open Stance         13         11          54.166667\n",
       "5     Sideways          2          4          33.333333"
      ]
     },
     "metadata": {},
     "output_type": "display_data"
    },
    {
     "data": {
      "image/png": "[encoded data removed]",
      "text/plain": [
       "<Figure size 1346.4x739.44 with 1 Axes>"
      ]
     },
     "metadata": {},
     "output_type": "display_data"
    }
   ],
   "source": [
    "dbcopy = data.copy()\n",
    "stancesWinners = []\n",
    "stancesLosers = []\n",
    "for index, row in dbcopy.iterrows():\n",
    "    if (row.Winner == 'Red'):\n",
    "        stancesWinners.append(row.R_Stance)\n",
    "        stancesLosers.append(row.B_Stance)\n",
    "    else:\n",
    "        stancesWinners.append(row.B_Stance)\n",
    "        stancesLosers.append(row.R_Stance)\n",
    "\n",
    "victoryCount = []\n",
    "for stance in stancesWinners:\n",
    "    victoryCount.append(stancesWinners.count(stance))\n",
    "\n",
    "loserCount = []\n",
    "for stance in stancesLosers:\n",
    "    loserCount.append(stancesLosers.count(stance))\n",
    "\n",
    "Data = {\n",
    "    'Stance': stancesWinners,\n",
    "    'WinsCount': victoryCount\n",
    "}\n",
    "df = pd.DataFrame(Data, columns=['Stance', 'WinsCount'])\n",
    "df = df.drop_duplicates()\n",
    "df = df.sort_values(by=['WinsCount'], ascending=False)\n",
    "#display(df)\n",
    "\n",
    "Data2 = {\n",
    "    'Stance': stancesLosers,\n",
    "    'LossCount': loserCount\n",
    "}\n",
    "df2 = pd.DataFrame(Data2, columns=['Stance', 'LossCount'])\n",
    "df2 = df2.drop_duplicates()\n",
    "df2 = df2.sort_values(by=['LossCount'], ascending=False)\n",
    "#display(df2)\n",
    "\n",
    "merged_inner = pd.merge(left=df,right=df2, left_on='Stance', right_on='Stance')\n",
    "merged_inner = merged_inner.dropna()\n",
    "\n",
    "percentageArray = []\n",
    "\n",
    "for index,row in merged_inner.iterrows():\n",
    "    percentage = (row.WinsCount/(row.WinsCount + row.LossCount))*100\n",
    "    percentageArray.append(percentage)\n",
    "    \n",
    "merged_inner['VictoryPercentage'] = percentageArray\n",
    "display(merged_inner)\n",
    "\n",
    "chart = sns.barplot(x='Stance',y='VictoryPercentage', data=merged_inner)\n",
    "#chart.set_xticklabels(chart.get_xticklabels(), rotation=90)\n",
    "\n",
    "# set chart size\n",
    "#sns.set(rc={'figure.figsize':(18.7,10.27)})\n",
    "\n",
    "# Título do plot\n",
    "plt.title(\"Porcentagem de vitórias por Postura\", fontsize=25)\n",
    "# Nome do eixo x\n",
    "plt.xlabel('Postura de luta', fontsize=18)\n",
    "# Nome do eixo y\n",
    "plt.ylabel('%', fontsize=18)\n",
    "plt.show()"
   ]
  },
  {
   "cell_type": "markdown",
   "metadata": {},
   "source": [
    "A análise dos dados permite concluir que a postura masi vitoriosa é a Open Stace_, porém vale ressaltar que ela foi utlizada nas lutas do UFC um número bastante pequeno de vezes quando comparada com outras posturas (então não existem tantos dados para avaliação). Além disso, aquelas que são utilizadas com frequência possuem uma porcentagem de vitórias bem parecida (em torno de 50%). Mesmo assim, dessas, a melhor classificada é a _South Paw_. "
   ]
  },
  {
   "cell_type": "markdown",
   "metadata": {},
   "source": [
    "\n",
    "## 3. Limpando os dados"
   ]
  },
  {
   "cell_type": "markdown",
   "metadata": {},
   "source": [
    "O nosso .csv veio com algumas tuplas com elementos nulos, o que dificultava nossa análise nas partes dos testes e regressões. Assim, tiramos as linhas onde algumas colunas não tinham dados, pois os dados restantes dessas tuplas não eram relevantes para nossas análises. Dessa forma:"
   ]
  },
  {
   "cell_type": "code",
   "execution_count": 12,
   "metadata": {},
   "outputs": [
    {
     "data": {
      "text/html": [
       "<div>\n",
       "<style scoped>\n",
       "    .dataframe tbody tr th:only-of-type {\n",
       "        vertical-align: middle;\n",
       "    }\n",
       "\n",
       "    .dataframe tbody tr th {\n",
       "        vertical-align: top;\n",
       "    }\n",
       "\n",
       "    .dataframe thead th {\n",
       "        text-align: right;\n",
       "    }\n",
       "</style>\n",
       "<table border=\"1\" class=\"dataframe\">\n",
       "  <thead>\n",
       "    <tr style=\"text-align: right;\">\n",
       "      <th></th>\n",
       "      <th>R_fighter</th>\n",
       "      <th>B_fighter</th>\n",
       "      <th>date</th>\n",
       "      <th>Winner</th>\n",
       "      <th>weight_class</th>\n",
       "      <th>no_of_rounds</th>\n",
       "      <th>B_losses</th>\n",
       "      <th>B_wins</th>\n",
       "      <th>B_Stance</th>\n",
       "      <th>B_Height_cms</th>\n",
       "      <th>B_Reach_cms</th>\n",
       "      <th>B_Weight_lbs</th>\n",
       "      <th>R_losses</th>\n",
       "      <th>R_wins</th>\n",
       "      <th>R_Stance</th>\n",
       "      <th>R_Height_cms</th>\n",
       "      <th>R_Reach_cms</th>\n",
       "      <th>R_Weight_lbs</th>\n",
       "      <th>B_age</th>\n",
       "      <th>R_age</th>\n",
       "    </tr>\n",
       "  </thead>\n",
       "  <tbody>\n",
       "    <tr>\n",
       "      <th>0</th>\n",
       "      <td>Henry Cejudo</td>\n",
       "      <td>Marlon Moraes</td>\n",
       "      <td>2019-06-08</td>\n",
       "      <td>Red</td>\n",
       "      <td>Bantamweight</td>\n",
       "      <td>5</td>\n",
       "      <td>1.0</td>\n",
       "      <td>4.0</td>\n",
       "      <td>Orthodox</td>\n",
       "      <td>167.64</td>\n",
       "      <td>170.18</td>\n",
       "      <td>135.0</td>\n",
       "      <td>2.0</td>\n",
       "      <td>8.0</td>\n",
       "      <td>Orthodox</td>\n",
       "      <td>162.56</td>\n",
       "      <td>162.56</td>\n",
       "      <td>135.0</td>\n",
       "      <td>31.0</td>\n",
       "      <td>32.0</td>\n",
       "    </tr>\n",
       "    <tr>\n",
       "      <th>1</th>\n",
       "      <td>Valentina Shevchenko</td>\n",
       "      <td>Jessica Eye</td>\n",
       "      <td>2019-06-08</td>\n",
       "      <td>Red</td>\n",
       "      <td>Women's Flyweight</td>\n",
       "      <td>5</td>\n",
       "      <td>6.0</td>\n",
       "      <td>4.0</td>\n",
       "      <td>Orthodox</td>\n",
       "      <td>167.64</td>\n",
       "      <td>167.64</td>\n",
       "      <td>125.0</td>\n",
       "      <td>2.0</td>\n",
       "      <td>5.0</td>\n",
       "      <td>Southpaw</td>\n",
       "      <td>165.10</td>\n",
       "      <td>167.64</td>\n",
       "      <td>125.0</td>\n",
       "      <td>32.0</td>\n",
       "      <td>31.0</td>\n",
       "    </tr>\n",
       "    <tr>\n",
       "      <th>2</th>\n",
       "      <td>Tony Ferguson</td>\n",
       "      <td>Donald Cerrone</td>\n",
       "      <td>2019-06-08</td>\n",
       "      <td>Red</td>\n",
       "      <td>Lightweight</td>\n",
       "      <td>3</td>\n",
       "      <td>8.0</td>\n",
       "      <td>23.0</td>\n",
       "      <td>Orthodox</td>\n",
       "      <td>185.42</td>\n",
       "      <td>185.42</td>\n",
       "      <td>155.0</td>\n",
       "      <td>1.0</td>\n",
       "      <td>14.0</td>\n",
       "      <td>Orthodox</td>\n",
       "      <td>180.34</td>\n",
       "      <td>193.04</td>\n",
       "      <td>155.0</td>\n",
       "      <td>36.0</td>\n",
       "      <td>35.0</td>\n",
       "    </tr>\n",
       "    <tr>\n",
       "      <th>3</th>\n",
       "      <td>Jimmie Rivera</td>\n",
       "      <td>Petr Yan</td>\n",
       "      <td>2019-06-08</td>\n",
       "      <td>Blue</td>\n",
       "      <td>Bantamweight</td>\n",
       "      <td>3</td>\n",
       "      <td>0.0</td>\n",
       "      <td>4.0</td>\n",
       "      <td>Switch</td>\n",
       "      <td>170.18</td>\n",
       "      <td>170.18</td>\n",
       "      <td>135.0</td>\n",
       "      <td>2.0</td>\n",
       "      <td>6.0</td>\n",
       "      <td>Orthodox</td>\n",
       "      <td>162.56</td>\n",
       "      <td>172.72</td>\n",
       "      <td>135.0</td>\n",
       "      <td>26.0</td>\n",
       "      <td>29.0</td>\n",
       "    </tr>\n",
       "    <tr>\n",
       "      <th>4</th>\n",
       "      <td>Tai Tuivasa</td>\n",
       "      <td>Blagoy Ivanov</td>\n",
       "      <td>2019-06-08</td>\n",
       "      <td>Blue</td>\n",
       "      <td>Heavyweight</td>\n",
       "      <td>3</td>\n",
       "      <td>1.0</td>\n",
       "      <td>1.0</td>\n",
       "      <td>Southpaw</td>\n",
       "      <td>180.34</td>\n",
       "      <td>185.42</td>\n",
       "      <td>250.0</td>\n",
       "      <td>1.0</td>\n",
       "      <td>3.0</td>\n",
       "      <td>Southpaw</td>\n",
       "      <td>187.96</td>\n",
       "      <td>190.50</td>\n",
       "      <td>264.0</td>\n",
       "      <td>32.0</td>\n",
       "      <td>26.0</td>\n",
       "    </tr>\n",
       "  </tbody>\n",
       "</table>\n",
       "</div>"
      ],
      "text/plain": [
       "              R_fighter       B_fighter        date Winner       weight_class  \\\n",
       "0          Henry Cejudo   Marlon Moraes  2019-06-08    Red       Bantamweight   \n",
       "1  Valentina Shevchenko     Jessica Eye  2019-06-08    Red  Women's Flyweight   \n",
       "2         Tony Ferguson  Donald Cerrone  2019-06-08    Red        Lightweight   \n",
       "3         Jimmie Rivera        Petr Yan  2019-06-08   Blue       Bantamweight   \n",
       "4           Tai Tuivasa   Blagoy Ivanov  2019-06-08   Blue        Heavyweight   \n",
       "\n",
       "   no_of_rounds  B_losses  B_wins  B_Stance  B_Height_cms  B_Reach_cms  \\\n",
       "0             5       1.0     4.0  Orthodox        167.64       170.18   \n",
       "1             5       6.0     4.0  Orthodox        167.64       167.64   \n",
       "2             3       8.0    23.0  Orthodox        185.42       185.42   \n",
       "3             3       0.0     4.0    Switch        170.18       170.18   \n",
       "4             3       1.0     1.0  Southpaw        180.34       185.42   \n",
       "\n",
       "   B_Weight_lbs  R_losses  R_wins  R_Stance  R_Height_cms  R_Reach_cms  \\\n",
       "0         135.0       2.0     8.0  Orthodox        162.56       162.56   \n",
       "1         125.0       2.0     5.0  Southpaw        165.10       167.64   \n",
       "2         155.0       1.0    14.0  Orthodox        180.34       193.04   \n",
       "3         135.0       2.0     6.0  Orthodox        162.56       172.72   \n",
       "4         250.0       1.0     3.0  Southpaw        187.96       190.50   \n",
       "\n",
       "   R_Weight_lbs  B_age  R_age  \n",
       "0         135.0   31.0   32.0  \n",
       "1         125.0   32.0   31.0  \n",
       "2         155.0   36.0   35.0  \n",
       "3         135.0   26.0   29.0  \n",
       "4         264.0   32.0   26.0  "
      ]
     },
     "execution_count": 12,
     "metadata": {},
     "output_type": "execute_result"
    }
   ],
   "source": [
    "data = pd.read_csv(\"ufcdata/data.csv\",encoding='latin-1', usecols=columns)\n",
    "data = data[np.isfinite(data['R_Reach_cms'])]\n",
    "data = data[np.isfinite(data['B_Reach_cms'])]\n",
    "data = data[np.isfinite(data['no_of_rounds'])]\n",
    "data = data[np.isfinite(data['B_wins'])]\n",
    "data = data[np.isfinite(data['R_wins'])]\n",
    "data = data[np.isfinite(data['B_losses'])]\n",
    "data = data[np.isfinite(data['R_losses'])]\n",
    "data = data[np.isfinite(data['R_age'])]\n",
    "data = data[np.isfinite(data['B_age'])]\n",
    "data = data[np.isfinite(data['R_Weight_lbs'])]\n",
    "data = data[np.isfinite(data['B_Weight_lbs'])]\n",
    "data = data[np.isfinite(data['B_Height_cms'])]\n",
    "data = data[np.isfinite(data['R_Height_cms'])]\n",
    "\n",
    "data.head()"
   ]
  },
  {
   "cell_type": "markdown",
   "metadata": {},
   "source": [
    "\n",
    "## 4. Testes de hipótese e intervalos de confiância:"
   ]
  },
  {
   "cell_type": "markdown",
   "metadata": {},
   "source": [
    "\n",
    "### 4.1. A idade tem uma distribuição uniformemente aleatória para o vencedor?"
   ]
  },
  {
   "cell_type": "markdown",
   "metadata": {},
   "source": [
    "Vamos mensurar a diferença de idade entre ganhador e perdedor em um mundo aleatório.\n",
    "\n",
    "Para ganhadores no lado Vermelho:\n",
    "\n",
    "    Hipotese Nula: Seleção aleatória.\n",
    "\n",
    "Para que não soframos do paradoxo Simpson, envolvendo as categorias de Peso Pesado, Peso Leve e Peso Médio.\n",
    "\n",
    "Para cada uma dessas classificações, faremos um Teste de Permutação para verificar se a idade tem grande influência nas lutas. Para isso, iremos fazer permutações repetidas vezes entre os ganhadores e perdedores e mensurar a diferença de suas idades, para que a \"Lei dos Grandes Números\" nos mostre qual é a média da diferença das idades em um cenário onde o vencedor é selecionado uniformemente de forma aleatoria, e então comparar o valor observado nos dados com o resultado obtido pelo Teste de Permutação."
   ]
  },
  {
   "cell_type": "markdown",
   "metadata": {},
   "source": [
    "\n",
    "### 4.1.1 Peso Pesado"
   ]
  },
  {
   "cell_type": "markdown",
   "metadata": {},
   "source": [
    "Para ganhadores no lado Vermelho:"
   ]
  },
  {
   "cell_type": "code",
   "execution_count": 13,
   "metadata": {},
   "outputs": [
    {
     "data": {
      "text/html": [
       "<div>\n",
       "<style scoped>\n",
       "    .dataframe tbody tr th:only-of-type {\n",
       "        vertical-align: middle;\n",
       "    }\n",
       "\n",
       "    .dataframe tbody tr th {\n",
       "        vertical-align: top;\n",
       "    }\n",
       "\n",
       "    .dataframe thead th {\n",
       "        text-align: right;\n",
       "    }\n",
       "</style>\n",
       "<table border=\"1\" class=\"dataframe\">\n",
       "  <thead>\n",
       "    <tr style=\"text-align: right;\">\n",
       "      <th></th>\n",
       "      <th>R_fighter</th>\n",
       "      <th>B_fighter</th>\n",
       "      <th>date</th>\n",
       "      <th>Winner</th>\n",
       "      <th>weight_class</th>\n",
       "      <th>no_of_rounds</th>\n",
       "      <th>B_losses</th>\n",
       "      <th>B_wins</th>\n",
       "      <th>B_Stance</th>\n",
       "      <th>B_Height_cms</th>\n",
       "      <th>B_Reach_cms</th>\n",
       "      <th>B_Weight_lbs</th>\n",
       "      <th>R_losses</th>\n",
       "      <th>R_wins</th>\n",
       "      <th>R_Stance</th>\n",
       "      <th>R_Height_cms</th>\n",
       "      <th>R_Reach_cms</th>\n",
       "      <th>R_Weight_lbs</th>\n",
       "      <th>B_age</th>\n",
       "      <th>R_age</th>\n",
       "    </tr>\n",
       "  </thead>\n",
       "  <tbody>\n",
       "    <tr>\n",
       "      <th>4</th>\n",
       "      <td>Tai Tuivasa</td>\n",
       "      <td>Blagoy Ivanov</td>\n",
       "      <td>2019-06-08</td>\n",
       "      <td>Blue</td>\n",
       "      <td>Heavyweight</td>\n",
       "      <td>3</td>\n",
       "      <td>1.0</td>\n",
       "      <td>1.0</td>\n",
       "      <td>Southpaw</td>\n",
       "      <td>180.34</td>\n",
       "      <td>185.42</td>\n",
       "      <td>250.0</td>\n",
       "      <td>1.0</td>\n",
       "      <td>3.0</td>\n",
       "      <td>Southpaw</td>\n",
       "      <td>187.96</td>\n",
       "      <td>190.50</td>\n",
       "      <td>264.0</td>\n",
       "      <td>32.0</td>\n",
       "      <td>26.0</td>\n",
       "    </tr>\n",
       "    <tr>\n",
       "      <th>54</th>\n",
       "      <td>Walt Harris</td>\n",
       "      <td>Serghei Spivac</td>\n",
       "      <td>2019-05-04</td>\n",
       "      <td>Red</td>\n",
       "      <td>Heavyweight</td>\n",
       "      <td>3</td>\n",
       "      <td>0.0</td>\n",
       "      <td>0.0</td>\n",
       "      <td>Orthodox</td>\n",
       "      <td>190.50</td>\n",
       "      <td>198.12</td>\n",
       "      <td>260.0</td>\n",
       "      <td>7.0</td>\n",
       "      <td>4.0</td>\n",
       "      <td>Southpaw</td>\n",
       "      <td>195.58</td>\n",
       "      <td>195.58</td>\n",
       "      <td>250.0</td>\n",
       "      <td>24.0</td>\n",
       "      <td>35.0</td>\n",
       "    </tr>\n",
       "    <tr>\n",
       "      <th>60</th>\n",
       "      <td>Arjan Bhullar</td>\n",
       "      <td>Juan Adams</td>\n",
       "      <td>2019-05-04</td>\n",
       "      <td>Red</td>\n",
       "      <td>Heavyweight</td>\n",
       "      <td>3</td>\n",
       "      <td>0.0</td>\n",
       "      <td>1.0</td>\n",
       "      <td>Orthodox</td>\n",
       "      <td>195.58</td>\n",
       "      <td>203.20</td>\n",
       "      <td>265.0</td>\n",
       "      <td>1.0</td>\n",
       "      <td>2.0</td>\n",
       "      <td>Orthodox</td>\n",
       "      <td>185.42</td>\n",
       "      <td>190.50</td>\n",
       "      <td>245.0</td>\n",
       "      <td>27.0</td>\n",
       "      <td>32.0</td>\n",
       "    </tr>\n",
       "    <tr>\n",
       "      <th>63</th>\n",
       "      <td>Greg Hardy</td>\n",
       "      <td>Dmitrii Smoliakov</td>\n",
       "      <td>2019-04-27</td>\n",
       "      <td>Red</td>\n",
       "      <td>Heavyweight</td>\n",
       "      <td>3</td>\n",
       "      <td>2.0</td>\n",
       "      <td>0.0</td>\n",
       "      <td>Switch</td>\n",
       "      <td>187.96</td>\n",
       "      <td>187.96</td>\n",
       "      <td>253.0</td>\n",
       "      <td>1.0</td>\n",
       "      <td>0.0</td>\n",
       "      <td>Orthodox</td>\n",
       "      <td>195.58</td>\n",
       "      <td>203.20</td>\n",
       "      <td>265.0</td>\n",
       "      <td>36.0</td>\n",
       "      <td>30.0</td>\n",
       "    </tr>\n",
       "    <tr>\n",
       "      <th>69</th>\n",
       "      <td>Andrei Arlovski</td>\n",
       "      <td>Augusto Sakai</td>\n",
       "      <td>2019-04-27</td>\n",
       "      <td>Blue</td>\n",
       "      <td>Heavyweight</td>\n",
       "      <td>3</td>\n",
       "      <td>0.0</td>\n",
       "      <td>1.0</td>\n",
       "      <td>Orthodox</td>\n",
       "      <td>190.50</td>\n",
       "      <td>195.58</td>\n",
       "      <td>265.0</td>\n",
       "      <td>12.0</td>\n",
       "      <td>16.0</td>\n",
       "      <td>Orthodox</td>\n",
       "      <td>190.50</td>\n",
       "      <td>195.58</td>\n",
       "      <td>240.0</td>\n",
       "      <td>27.0</td>\n",
       "      <td>40.0</td>\n",
       "    </tr>\n",
       "  </tbody>\n",
       "</table>\n",
       "</div>"
      ],
      "text/plain": [
       "          R_fighter          B_fighter        date Winner weight_class  \\\n",
       "4       Tai Tuivasa      Blagoy Ivanov  2019-06-08   Blue  Heavyweight   \n",
       "54      Walt Harris     Serghei Spivac  2019-05-04    Red  Heavyweight   \n",
       "60    Arjan Bhullar         Juan Adams  2019-05-04    Red  Heavyweight   \n",
       "63       Greg Hardy  Dmitrii Smoliakov  2019-04-27    Red  Heavyweight   \n",
       "69  Andrei Arlovski      Augusto Sakai  2019-04-27   Blue  Heavyweight   \n",
       "\n",
       "    no_of_rounds  B_losses  B_wins  B_Stance  B_Height_cms  B_Reach_cms  \\\n",
       "4              3       1.0     1.0  Southpaw        180.34       185.42   \n",
       "54             3       0.0     0.0  Orthodox        190.50       198.12   \n",
       "60             3       0.0     1.0  Orthodox        195.58       203.20   \n",
       "63             3       2.0     0.0    Switch        187.96       187.96   \n",
       "69             3       0.0     1.0  Orthodox        190.50       195.58   \n",
       "\n",
       "    B_Weight_lbs  R_losses  R_wins  R_Stance  R_Height_cms  R_Reach_cms  \\\n",
       "4          250.0       1.0     3.0  Southpaw        187.96       190.50   \n",
       "54         260.0       7.0     4.0  Southpaw        195.58       195.58   \n",
       "60         265.0       1.0     2.0  Orthodox        185.42       190.50   \n",
       "63         253.0       1.0     0.0  Orthodox        195.58       203.20   \n",
       "69         265.0      12.0    16.0  Orthodox        190.50       195.58   \n",
       "\n",
       "    R_Weight_lbs  B_age  R_age  \n",
       "4          264.0   32.0   26.0  \n",
       "54         250.0   24.0   35.0  \n",
       "60         245.0   27.0   32.0  \n",
       "63         265.0   36.0   30.0  \n",
       "69         240.0   27.0   40.0  "
      ]
     },
     "execution_count": 13,
     "metadata": {},
     "output_type": "execute_result"
    }
   ],
   "source": [
    "heavyWeigthData = data[data[\"weight_class\"] == \"Heavyweight\"]\n",
    "heavyWeigthData.head()"
   ]
  },
  {
   "cell_type": "code",
   "execution_count": 19,
   "metadata": {},
   "outputs": [
    {
     "data": {
      "text/plain": [
       "-0.30084835630965046"
      ]
     },
     "execution_count": 19,
     "metadata": {},
     "output_type": "execute_result"
    }
   ],
   "source": [
    "filtro = heavyWeigthData[\"Winner\"] == \"Red\"\n",
    "valor_observado = heavyWeigthData[filtro][\"R_age\"].mean() - heavyWeigthData[~filtro][\"B_age\"].mean()\n",
    "valor_observado"
   ]
  },
  {
   "cell_type": "code",
   "execution_count": 20,
   "metadata": {},
   "outputs": [],
   "source": [
    "N = 10000\n",
    "diferencas = np.zeros(N)\n",
    "for i in range(N):\n",
    "    np.random.shuffle(filtro.values)\n",
    "    diff = heavyWeigthData[filtro][\"R_age\"].mean() - heavyWeigthData[~filtro][\"B_age\"].mean()\n",
    "    diferencas[i] = diff"
   ]
  },
  {
   "cell_type": "code",
   "execution_count": 21,
   "metadata": {},
   "outputs": [
    {
     "data": {
      "image/png": "[encoded data removed]",
      "text/plain": [
       "<Figure size 1346.4x739.44 with 1 Axes>"
      ]
     },
     "metadata": {},
     "output_type": "display_data"
    }
   ],
   "source": [
    "plt.xlabel('Diferença na Permutação')\n",
    "plt.ylabel('Pr(diff)')\n",
    "plt.plot([valor_observado], [0], 'ro', ms=15)\n",
    "plt.hist(diferencas, bins=30, edgecolor='k')\n",
    "plt.vlines(np.percentile(diferencas, 97.5), 0 , 100, color=\"red\")\n",
    "plt.show()"
   ]
  },
  {
   "cell_type": "markdown",
   "metadata": {},
   "source": [
    "Para ganhadores no lado Azul:"
   ]
  },
  {
   "cell_type": "code",
   "execution_count": 22,
   "metadata": {},
   "outputs": [
    {
     "data": {
      "text/plain": [
       "0.10078951180646101"
      ]
     },
     "execution_count": 22,
     "metadata": {},
     "output_type": "execute_result"
    }
   ],
   "source": [
    "filtro = heavyWeigthData[\"Winner\"] == \"Blue\"\n",
    "valor_observado = heavyWeigthData[filtro][\"B_age\"].mean() - heavyWeigthData[~filtro][\"R_age\"].mean()\n",
    "valor_observado"
   ]
  },
  {
   "cell_type": "code",
   "execution_count": 23,
   "metadata": {},
   "outputs": [
    {
     "data": {
      "image/png": "[encoded data removed]",
      "text/plain": [
       "<Figure size 1346.4x739.44 with 1 Axes>"
      ]
     },
     "metadata": {},
     "output_type": "display_data"
    }
   ],
   "source": [
    "N = 10000\n",
    "diferencas = np.zeros(N)\n",
    "for i in range(N):\n",
    "    np.random.shuffle(filtro.values)\n",
    "    diff = heavyWeigthData[filtro][\"B_age\"].mean() - heavyWeigthData[~filtro][\"R_age\"].mean()\n",
    "    diferencas[i] = diff\n",
    "plt.xlabel('Diferença na Permutação')\n",
    "plt.ylabel('Pr(diff)')\n",
    "plt.plot([valor_observado], [0], 'ro', ms=15)\n",
    "plt.hist(diferencas, bins=30, edgecolor='k')\n",
    "plt.vlines(np.percentile(diferencas, 97.5), 0 , 100, color=\"red\")\n",
    "plt.show()"
   ]
  },
  {
   "cell_type": "markdown",
   "metadata": {},
   "source": [
    "Podemos observar, pelo nosso Teste de Permutação, que os valores observados estão fora do intervalo de confiança para lutadores vitoriosos tanto no lado esquerdo quando no direito, sendo assim, podemos rejeitar a hipotese nula no caso de lutadores na categoria de Peso Pesado."
   ]
  },
  {
   "cell_type": "markdown",
   "metadata": {},
   "source": [
    "### 4.1.2 Peso Médio"
   ]
  },
  {
   "cell_type": "markdown",
   "metadata": {},
   "source": [
    "Para ganhadores no lado Vermehlo:"
   ]
  },
  {
   "cell_type": "code",
   "execution_count": 24,
   "metadata": {},
   "outputs": [],
   "source": [
    "WeigthData = data[data[\"weight_class\"] == \"Middleweight\"]"
   ]
  },
  {
   "cell_type": "code",
   "execution_count": 25,
   "metadata": {},
   "outputs": [
    {
     "data": {
      "text/plain": [
       "0.6460024154589377"
      ]
     },
     "execution_count": 25,
     "metadata": {},
     "output_type": "execute_result"
    }
   ],
   "source": [
    "filtro = WeigthData[\"Winner\"] == \"Red\"\n",
    "valor_observado = WeigthData[filtro][\"R_age\"].mean() - WeigthData[~filtro][\"B_age\"].mean()\n",
    "valor_observado"
   ]
  },
  {
   "cell_type": "code",
   "execution_count": 26,
   "metadata": {},
   "outputs": [],
   "source": [
    "N = 10000\n",
    "diferencas = np.zeros(N)\n",
    "for i in range(N):\n",
    "    np.random.shuffle(filtro.values)\n",
    "    diff = WeigthData[filtro][\"R_age\"].mean() - WeigthData[~filtro][\"B_age\"].mean()\n",
    "    diferencas[i] = diff"
   ]
  },
  {
   "cell_type": "code",
   "execution_count": 27,
   "metadata": {},
   "outputs": [
    {
     "data": {
      "image/png": "[encoded data removed]",
      "text/plain": [
       "<Figure size 1346.4x739.44 with 1 Axes>"
      ]
     },
     "metadata": {},
     "output_type": "display_data"
    }
   ],
   "source": [
    "plt.xlabel('Diferença na Permutação')\n",
    "plt.ylabel('Pr(diff)')\n",
    "plt.plot([valor_observado], [0], 'ro', ms=15)\n",
    "plt.hist(diferencas, bins=30, edgecolor='k')\n",
    "plt.vlines(np.percentile(diferencas, 97.5), 0 , 100, color=\"red\")\n",
    "plt.vlines(np.percentile(diferencas, 2.5), 0 , 100, color=\"red\")\n",
    "\n",
    "plt.show()"
   ]
  },
  {
   "cell_type": "markdown",
   "metadata": {},
   "source": [
    "Para ganhadores no lado Azul:"
   ]
  },
  {
   "cell_type": "code",
   "execution_count": 28,
   "metadata": {},
   "outputs": [
    {
     "data": {
      "text/plain": [
       "-0.6838083538083524"
      ]
     },
     "execution_count": 28,
     "metadata": {},
     "output_type": "execute_result"
    }
   ],
   "source": [
    "filtro = WeigthData[\"Winner\"] == \"Blue\"\n",
    "valor_observado = WeigthData[filtro][\"B_age\"].mean() - WeigthData[~filtro][\"R_age\"].mean()\n",
    "valor_observado"
   ]
  },
  {
   "cell_type": "code",
   "execution_count": 29,
   "metadata": {},
   "outputs": [
    {
     "data": {
      "image/png": "[encoded data removed]",
      "text/plain": [
       "<Figure size 1346.4x739.44 with 1 Axes>"
      ]
     },
     "metadata": {},
     "output_type": "display_data"
    }
   ],
   "source": [
    "N = 10000\n",
    "diferencas = np.zeros(N)\n",
    "for i in range(N):\n",
    "    np.random.shuffle(filtro.values)\n",
    "    diff = WeigthData[filtro][\"B_age\"].mean() - WeigthData[~filtro][\"R_age\"].mean()\n",
    "    diferencas[i] = diff\n",
    "plt.xlabel('Diferença na Permutação')\n",
    "plt.ylabel('Pr(diff)')\n",
    "plt.plot([valor_observado], [0], 'ro', ms=15)\n",
    "plt.hist(diferencas, bins=30, edgecolor='k')\n",
    "plt.vlines(np.percentile(diferencas, 97.5), 0 , 100, color=\"red\")\n",
    "plt.vlines(np.percentile(diferencas, 2.5), 0 , 100, color=\"red\")\n",
    "\n",
    "plt.show()"
   ]
  },
  {
   "cell_type": "markdown",
   "metadata": {},
   "source": [
    "Podemos observar, pelo nosso Teste de Permutação, que os valores observados estão fora do intervalo de confiança para lutadores vitoriosos tanto no lado esquerdo quando no direito, sendo assim, podemos rejeitar a hipotese nula no caso de lutadores na categoria de Peso Médio."
   ]
  },
  {
   "cell_type": "markdown",
   "metadata": {},
   "source": [
    "### 4.1.3 Peso Leve"
   ]
  },
  {
   "cell_type": "markdown",
   "metadata": {},
   "source": [
    "Para ganhadores no lado Vermelho:"
   ]
  },
  {
   "cell_type": "code",
   "execution_count": 31,
   "metadata": {},
   "outputs": [],
   "source": [
    "WeigthData = data[data[\"weight_class\"] == \"Lightweight\"]"
   ]
  },
  {
   "cell_type": "code",
   "execution_count": 32,
   "metadata": {},
   "outputs": [
    {
     "data": {
      "text/plain": [
       "-0.12139266205829458"
      ]
     },
     "execution_count": 32,
     "metadata": {},
     "output_type": "execute_result"
    }
   ],
   "source": [
    "filtro = WeigthData[\"Winner\"] == \"Red\"\n",
    "valor_observado = WeigthData[filtro][\"R_age\"].mean() - WeigthData[~filtro][\"B_age\"].mean()\n",
    "valor_observado"
   ]
  },
  {
   "cell_type": "code",
   "execution_count": 33,
   "metadata": {},
   "outputs": [],
   "source": [
    "N = 10000\n",
    "diferencas = np.zeros(N)\n",
    "for i in range(N):\n",
    "    np.random.shuffle(filtro.values)\n",
    "    diff = WeigthData[filtro][\"R_age\"].mean() - WeigthData[~filtro][\"B_age\"].mean()\n",
    "    diferencas[i] = diff"
   ]
  },
  {
   "cell_type": "code",
   "execution_count": 34,
   "metadata": {},
   "outputs": [
    {
     "data": {
      "image/png": "[encoded data removed]",
      "text/plain": [
       "<Figure size 1346.4x739.44 with 1 Axes>"
      ]
     },
     "metadata": {},
     "output_type": "display_data"
    }
   ],
   "source": [
    "plt.xlabel('Diferença na Permutação')\n",
    "plt.ylabel('Pr(diff)')\n",
    "plt.plot([valor_observado], [0], 'ro', ms=15)\n",
    "plt.hist(diferencas, bins=30, edgecolor='k')\n",
    "plt.vlines(np.percentile(diferencas, 2.5), 0 , 120, color=\"red\")\n",
    "plt.show()"
   ]
  },
  {
   "cell_type": "markdown",
   "metadata": {},
   "source": [
    "Para ganhadores no lado Azul:"
   ]
  },
  {
   "cell_type": "code",
   "execution_count": 35,
   "metadata": {},
   "outputs": [
    {
     "data": {
      "text/plain": [
       "0.11799410029498247"
      ]
     },
     "execution_count": 35,
     "metadata": {},
     "output_type": "execute_result"
    }
   ],
   "source": [
    "filtro = WeigthData[\"Winner\"] == \"Blue\"\n",
    "valor_observado = WeigthData[filtro][\"B_age\"].mean() - WeigthData[~filtro][\"R_age\"].mean()\n",
    "valor_observado"
   ]
  },
  {
   "cell_type": "code",
   "execution_count": 36,
   "metadata": {},
   "outputs": [
    {
     "data": {
      "image/png": "[encoded data removed]",
      "text/plain": [
       "<Figure size 1346.4x739.44 with 1 Axes>"
      ]
     },
     "metadata": {},
     "output_type": "display_data"
    }
   ],
   "source": [
    "N = 10000\n",
    "diferencas = np.zeros(N)\n",
    "for i in range(N):\n",
    "    np.random.shuffle(filtro.values)\n",
    "    diff = WeigthData[filtro][\"B_age\"].mean() - WeigthData[~filtro][\"R_age\"].mean()\n",
    "    diferencas[i] = diff\n",
    "plt.xlabel('Diferença na Permutação')\n",
    "plt.ylabel('Pr(diff)')\n",
    "plt.plot([valor_observado], [0], 'ro', ms=15)\n",
    "plt.hist(diferencas, bins=30, edgecolor='k')\n",
    "plt.vlines(np.percentile(diferencas, 97.5), 0 , 450, color=\"red\")\n",
    "plt.show()"
   ]
  },
  {
   "cell_type": "markdown",
   "metadata": {},
   "source": [
    "Podemos observar, pelo nosso Teste de Permutação, que os valores observados estão fora do intervalo de confiança para lutadores vitoriosos tanto no lado esquerdo quando no direito, sendo assim, podemos rejeitar a hipotese nula no caso de lutadores na categoria de Peso Leve."
   ]
  },
  {
   "cell_type": "markdown",
   "metadata": {},
   "source": [
    "Para cada peso podemos concluir que:\n",
    "     \n",
    "   * Peso Pesado: Os dados observados nos nossos testes indicam que para vencedores no lado vermelho, a idade tem influência, pois o valor visto no mundo real possui valor fora do intervalo de confiança, porém o mesmo não ocorre para lutadores no lado azul.\n",
    "   * Peso Médio: Os dados observados nos nossos testes indicam que a idade não tem influência nos resultados das lutas pois os valores observados estão dentro do intervalo de confiança.\n",
    "   * Peso Leve: Independente do lado que o lutador se encontra, a diferença de idade tem inflência no resultado final da luta."
   ]
  },
  {
   "cell_type": "markdown",
   "metadata": {},
   "source": [
    "#### Observações:"
   ]
  },
  {
   "cell_type": "markdown",
   "metadata": {},
   "source": [
    "Durante o estudo do dataset, notamos que geralmente, lutadores que lutam no lado vermelho tendem a ganhar mais lutas."
   ]
  },
  {
   "cell_type": "code",
   "execution_count": 37,
   "metadata": {},
   "outputs": [
    {
     "data": {
      "text/plain": [
       "246"
      ]
     },
     "execution_count": 37,
     "metadata": {},
     "output_type": "execute_result"
    }
   ],
   "source": [
    "filtro = WeigthData[\"Winner\"] == \"Red\"\n",
    "WeigthData[filtro][\"Winner\"].count() - WeigthData[~filtro][\"Winner\"].count()"
   ]
  },
  {
   "cell_type": "markdown",
   "metadata": {},
   "source": [
    "Após isso, fizemos uma pesquisa e vimos que na UFC, a escolha dos lados são feitas através do sistema de ranqueamento da competição, com o lutador com ranking mais alto usando a luva vermelha, e o lutador com menor ranking usando a luva azul. Logo, faz sentido os resultados serem historicamente favoraveis ao lado vermelho, já que estes estão acima no ranking geral da UFC."
   ]
  },
  {
   "cell_type": "code",
   "execution_count": null,
   "metadata": {},
   "outputs": [],
   "source": []
  },
  {
   "cell_type": "markdown",
   "metadata": {},
   "source": [
    "## 5. Regressão e Classificação"
   ]
  },
  {
   "cell_type": "markdown",
   "metadata": {},
   "source": [
    "### 5.2 É possivel prever o resultado de uma luta baseado nos atributos dos lutadores?"
   ]
  },
  {
   "cell_type": "markdown",
   "metadata": {},
   "source": [
    "### Regressão Logística Multivalorada"
   ]
  },
  {
   "cell_type": "code",
   "execution_count": 40,
   "metadata": {},
   "outputs": [],
   "source": [
    "wdata = data[data[\"weight_class\"] == \"Heavyweight\"]\n",
    "\n",
    "Y = wdata[\"Winner\"]\n",
    "X = wdata[[\n",
    "    \"B_wins\", \n",
    "    \"R_wins\", \n",
    "    \"B_losses\", \n",
    "    \"R_losses\", \n",
    "    \"B_age\", \n",
    "    \"R_age\", \n",
    "    \"R_Height_cms\",\n",
    "    \"R_Reach_cms\",\n",
    "    \"R_Weight_lbs\",\n",
    "    \"B_Height_cms\",\n",
    "    \"B_Reach_cms\",\n",
    "    \"B_Weight_lbs\"\n",
    "]]"
   ]
  },
  {
   "cell_type": "code",
   "execution_count": 41,
   "metadata": {},
   "outputs": [
    {
     "name": "stdout",
     "output_type": "stream",
     "text": [
      "precisão: 0.5617977528089888\n"
     ]
    }
   ],
   "source": [
    "logistic = LogisticRegression(solver='lbfgs', max_iter=1000, multi_class='ovr')\n",
    "X_Treino, X_Teste, Y_Treino, Y_Teste = train_test_split(X, Y)\n",
    "logistic = logistic.fit(X_Treino, Y_Treino)\n",
    "score = logistic.score(X_Teste, Y_Teste)\n",
    "print(\"precisão:\", score)"
   ]
  },
  {
   "cell_type": "markdown",
   "metadata": {},
   "source": [
    "### KNN"
   ]
  },
  {
   "cell_type": "code",
   "execution_count": 42,
   "metadata": {},
   "outputs": [
    {
     "name": "stdout",
     "output_type": "stream",
     "text": [
      "k: 4\n",
      "accuracy: 0.6629213483146067\n"
     ]
    }
   ],
   "source": [
    "def precisao(k, X, Y):\n",
    "    xTreino, xValidacao, yTreino, yValidacao = train_test_split(X, Y, test_size=0.25, random_state=1)\n",
    "    knn = KNeighborsClassifier(n_neighbors=k, weights='distance')\n",
    "    knn.fit(xTreino, yTreino)\n",
    "    validacao = knn.predict(xValidacao)\n",
    "    return accuracy_score(yValidacao, validacao)\n",
    "\n",
    "bestk =(0, 0)\n",
    "for i in [1,2,3,4,5,6,7,8,9,10]:\n",
    "    p = precisao(i, X, Y)\n",
    "    if(p > bestk[1]):\n",
    "        bestk = (i, p)\n",
    "\n",
    "k, acc = bestk\n",
    "\n",
    "print(\"k:\", k)\n",
    "print(\"accuracy:\", acc)\n"
   ]
  },
  {
   "cell_type": "markdown",
   "metadata": {},
   "source": [
    "Utilizando nossos dados, é possivel prever o resultado de uma luta utilizando os atributos dos lutadores, com precisão de maior ou igual à 60%"
   ]
  },
  {
   "cell_type": "code",
   "execution_count": null,
   "metadata": {},
   "outputs": [],
   "source": []
  }
 ],
 "metadata": {
  "kernelspec": {
   "display_name": "Python 3",
   "language": "python",
   "name": "python3"
  },
  "language_info": {
   "codemirror_mode": {
    "name": "ipython",
    "version": 3
   },
   "file_extension": ".py",
   "mimetype": "text/x-python",
   "name": "python",
   "nbconvert_exporter": "python",
   "pygments_lexer": "ipython3",
   "version": "3.7.3"
  }
 },
 "nbformat": 4,
 "nbformat_minor": 2
}
